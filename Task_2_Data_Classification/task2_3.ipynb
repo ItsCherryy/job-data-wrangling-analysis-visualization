{
 "cells": [
  {
   "cell_type": "markdown",
   "metadata": {},
   "source": [
    "# Assignment 2: Milestone I Natural Language Processing\n",
    "## Task 2&3\n",
    "#### Student Name: Toh Kah Hie\n",
    "#### Student ID: s3936897\n",
    "\n",
    "Date: 22 September 2022\n",
    "\n",
    "Version: 1.0\n",
    "\n",
    "Environment: Python 3 and Jupyter notebook\n",
    "\n",
    "Libraries used:\n",
    "* pandas\n",
    "* re\n",
    "* random\n",
    "* sklearn\n",
    "* logging\n",
    "* gensim\n",
    "* matplotlib\n",
    "* numpy\n",
    "* nltk\n",
    "* itertools\n",
    "\n",
    "## Introduction\n",
    "\n",
    "**Task 2** lets students generate 3 types of feature representation for Job Advertisement Descriptions namely Count vector representation, TF-IDF weighted vector representation as well as unweighted vector representation. \n",
    "\n",
    "The count vector representation is generated based on the vocabulary produced from Task 1. It is then saved into a text file named ```count_vectors.txt``` with the required formatting. The weighted and unweighted feature representation of the job advertisement descriptions on the other hand is generated based on an in-house trained FastText model.\n",
    "\n",
    "**Task 3** asks students to build machine learning models for classifying the category of a job advertisement text and conduct experiments to determine:\n",
    "* Which language model performs the best with the chosen machine learning model\n",
    "* Whether including the title for each job advertisement for classification boosts the chosen model's accuracy\n",
    "\n",
    "The chosen machine learning model in this task is a logistic regression model. The chosen model would be trained based on the 3 generated vector representations in Task 2 and evaluated using a 5-fold cross validation. The one that gave the best performance would then be used and experiment with different types of data including:\n",
    "* Only the title of each job advertisement\n",
    "* Only the description of each job advertisement (Task 2)\n",
    "* A combination of both the title and description of each job advertisement"
   ]
  },
  {
   "cell_type": "markdown",
   "metadata": {},
   "source": [
    "## Importing libraries "
   ]
  },
  {
   "cell_type": "code",
   "execution_count": 1,
   "metadata": {},
   "outputs": [],
   "source": [
    "# Task 2.1\n",
    "import pandas as pd\n",
    "import re\n",
    "import random\n",
    "\n",
    "# Task 2.2\n",
    "from sklearn.feature_extraction.text import CountVectorizer\n",
    "\n",
    "# Task 2.3\n",
    "import logging\n",
    "from gensim.models.fasttext import FastText\n",
    "# 2.3.3\n",
    "from sklearn.feature_extraction.text import TfidfVectorizer\n",
    "# 2.3.4\n",
    "from sklearn.manifold import TSNE\n",
    "import matplotlib.pyplot as plt\n",
    "import numpy as np\n",
    "\n",
    "# Task 3.1\n",
    "from sklearn.model_selection import train_test_split\n",
    "from sklearn.linear_model import LogisticRegression\n",
    "from sklearn.model_selection import KFold\n",
    "from sklearn.model_selection import cross_val_score\n",
    "from numpy import mean\n",
    "from numpy import std\n",
    "\n",
    "# Task 3.2\n",
    "import nltk\n",
    "from nltk import RegexpTokenizer\n",
    "from nltk.tokenize import sent_tokenize\n",
    "from nltk.probability import *\n",
    "from nltk.util import ngrams\n",
    "\n",
    "from itertools import chain"
   ]
  },
  {
   "cell_type": "markdown",
   "metadata": {},
   "source": [
    "## Task 2. Generating Feature Representations for Job Advertisement Descriptions"
   ]
  },
  {
   "cell_type": "markdown",
   "metadata": {},
   "source": [
    "In this task, different types of feature representations will be generated, including:\n",
    "* Count vector representation\n",
    "* Weighted document embeddings\n",
    "* Unweighted document embeddings"
   ]
  },
  {
   "cell_type": "markdown",
   "metadata": {},
   "source": [
    "### Task 2.1 Loading the data as well as vocab\n",
    "The dataset ```job_data.txt``` as well as the vocabulary ```vocab.txt``` generated previously in Task 1 are loaded for training the language model and generating feature representations.\n",
    "\n",
    "The job_data.txt is loaded in the form of csv with columns including\n",
    "* Title | Title of job advertisement | String\n",
    "* Webindex | Webindex of job advertisement | Integer\n",
    "* Company | Company of job advertisement | String\n",
    "* Description | Description of job advertisement | String\n",
    "* Filename | Which text file the job advertisement come from | String\n",
    "* Target | Category of each job advertisement | String\n",
    "* Processed_description | Pre-processed description | String"
   ]
  },
  {
   "cell_type": "code",
   "execution_count": 2,
   "metadata": {
    "scrolled": false
   },
   "outputs": [
    {
     "data": {
      "text/html": [
       "<div>\n",
       "<style scoped>\n",
       "    .dataframe tbody tr th:only-of-type {\n",
       "        vertical-align: middle;\n",
       "    }\n",
       "\n",
       "    .dataframe tbody tr th {\n",
       "        vertical-align: top;\n",
       "    }\n",
       "\n",
       "    .dataframe thead th {\n",
       "        text-align: right;\n",
       "    }\n",
       "</style>\n",
       "<table border=\"1\" class=\"dataframe\">\n",
       "  <thead>\n",
       "    <tr style=\"text-align: right;\">\n",
       "      <th></th>\n",
       "      <th>Title</th>\n",
       "      <th>Webindex</th>\n",
       "      <th>Company</th>\n",
       "      <th>Description</th>\n",
       "      <th>Filename</th>\n",
       "      <th>Target</th>\n",
       "      <th>Processed_description</th>\n",
       "    </tr>\n",
       "  </thead>\n",
       "  <tbody>\n",
       "    <tr>\n",
       "      <th>0</th>\n",
       "      <td>Finance / Accounts Asst Bromley to ****k</td>\n",
       "      <td>68997528</td>\n",
       "      <td>First Recruitment Services</td>\n",
       "      <td>Accountant (partqualified) to **** p.a. South ...</td>\n",
       "      <td>data\\Accounting_Finance\\Job_00382.txt</td>\n",
       "      <td>Accounting_Finance</td>\n",
       "      <td>accountant partqualified south east london man...</td>\n",
       "    </tr>\n",
       "    <tr>\n",
       "      <th>1</th>\n",
       "      <td>Fund Accountant  Hedge Fund</td>\n",
       "      <td>68063513</td>\n",
       "      <td>Austin Andrew Ltd</td>\n",
       "      <td>One of the leading Hedge Funds in London is cu...</td>\n",
       "      <td>data\\Accounting_Finance\\Job_00354.txt</td>\n",
       "      <td>Accounting_Finance</td>\n",
       "      <td>hedge funds london recruiting fund accountant ...</td>\n",
       "    </tr>\n",
       "    <tr>\n",
       "      <th>2</th>\n",
       "      <td>Deputy Home Manager</td>\n",
       "      <td>68700336</td>\n",
       "      <td>Caritas</td>\n",
       "      <td>An exciting opportunity has arisen to join an ...</td>\n",
       "      <td>data\\Healthcare_Nursing\\Job_00547.txt</td>\n",
       "      <td>Healthcare_Nursing</td>\n",
       "      <td>exciting arisen establish provider elderly car...</td>\n",
       "    </tr>\n",
       "    <tr>\n",
       "      <th>3</th>\n",
       "      <td>Brokers Wanted Imediate Start</td>\n",
       "      <td>67996688</td>\n",
       "      <td>OneTwoTrade</td>\n",
       "      <td>OneTwoTrade is expanding their Sales Team and ...</td>\n",
       "      <td>data\\Accounting_Finance\\Job_00246.txt</td>\n",
       "      <td>Accounting_Finance</td>\n",
       "      <td>expanding recruiting junior trainee brokers ci...</td>\n",
       "    </tr>\n",
       "    <tr>\n",
       "      <th>4</th>\n",
       "      <td>RGN Nurses (Hospitals)  Penarth</td>\n",
       "      <td>71803987</td>\n",
       "      <td>Swiis Healthcare</td>\n",
       "      <td>RGN Nurses (Hospitals) Immediate fulltime and ...</td>\n",
       "      <td>data\\Healthcare_Nursing\\Job_00543.txt</td>\n",
       "      <td>Healthcare_Nursing</td>\n",
       "      <td>rgn nurses hospitals fulltime part swiis hour ...</td>\n",
       "    </tr>\n",
       "  </tbody>\n",
       "</table>\n",
       "</div>"
      ],
      "text/plain": [
       "                                      Title  Webindex  \\\n",
       "0  Finance / Accounts Asst Bromley to ****k  68997528   \n",
       "1               Fund Accountant  Hedge Fund  68063513   \n",
       "2                       Deputy Home Manager  68700336   \n",
       "3             Brokers Wanted Imediate Start  67996688   \n",
       "4           RGN Nurses (Hospitals)  Penarth  71803987   \n",
       "\n",
       "                      Company  \\\n",
       "0  First Recruitment Services   \n",
       "1           Austin Andrew Ltd   \n",
       "2                     Caritas   \n",
       "3                 OneTwoTrade   \n",
       "4            Swiis Healthcare   \n",
       "\n",
       "                                         Description  \\\n",
       "0  Accountant (partqualified) to **** p.a. South ...   \n",
       "1  One of the leading Hedge Funds in London is cu...   \n",
       "2  An exciting opportunity has arisen to join an ...   \n",
       "3  OneTwoTrade is expanding their Sales Team and ...   \n",
       "4  RGN Nurses (Hospitals) Immediate fulltime and ...   \n",
       "\n",
       "                                Filename              Target  \\\n",
       "0  data\\Accounting_Finance\\Job_00382.txt  Accounting_Finance   \n",
       "1  data\\Accounting_Finance\\Job_00354.txt  Accounting_Finance   \n",
       "2  data\\Healthcare_Nursing\\Job_00547.txt  Healthcare_Nursing   \n",
       "3  data\\Accounting_Finance\\Job_00246.txt  Accounting_Finance   \n",
       "4  data\\Healthcare_Nursing\\Job_00543.txt  Healthcare_Nursing   \n",
       "\n",
       "                               Processed_description  \n",
       "0  accountant partqualified south east london man...  \n",
       "1  hedge funds london recruiting fund accountant ...  \n",
       "2  exciting arisen establish provider elderly car...  \n",
       "3  expanding recruiting junior trainee brokers ci...  \n",
       "4  rgn nurses hospitals fulltime part swiis hour ...  "
      ]
     },
     "execution_count": 2,
     "metadata": {},
     "output_type": "execute_result"
    }
   ],
   "source": [
    "# Loaded saved dataset\n",
    "job_df = pd.read_csv('job_data.txt')\n",
    "job_df.head()"
   ]
  },
  {
   "cell_type": "code",
   "execution_count": 3,
   "metadata": {},
   "outputs": [
    {
     "name": "stdout",
     "output_type": "stream",
     "text": [
      "Dataypes of each column:\n"
     ]
    },
    {
     "data": {
      "text/plain": [
       "Title                    object\n",
       "Webindex                  int64\n",
       "Company                  object\n",
       "Description              object\n",
       "Filename                 object\n",
       "Target                   object\n",
       "Processed_description    object\n",
       "dtype: object"
      ]
     },
     "execution_count": 3,
     "metadata": {},
     "output_type": "execute_result"
    }
   ],
   "source": [
    "# Validate the data types\n",
    "print(\"Dataypes of each column:\")\n",
    "job_df.dtypes"
   ]
  },
  {
   "cell_type": "code",
   "execution_count": 4,
   "metadata": {
    "scrolled": true
   },
   "outputs": [
    {
     "name": "stdout",
     "output_type": "stream",
     "text": [
      "Number of rows and columns:  (776, 7)\n"
     ]
    }
   ],
   "source": [
    "# Validate the dataset size\n",
    "print('Number of rows and columns: ',job_df.shape)"
   ]
  },
  {
   "cell_type": "code",
   "execution_count": 5,
   "metadata": {},
   "outputs": [
    {
     "name": "stdout",
     "output_type": "stream",
     "text": [
      "Number of words in vocab: 5168\n",
      "Random sample of vocab: ['machine', 'resilience', 'fmcg', 'timemanagement', 'solely', 'dependable', 'enrolment', 'reseller', 'discipline', 'opentable']\n"
     ]
    }
   ],
   "source": [
    "# Load saved vocabulary\n",
    "# In the form of word:index\n",
    "pattern = r'(.+):\\d+'\n",
    "with open('vocab.txt','r') as f:\n",
    "    vocabulary = f.read().split()\n",
    "\n",
    "vocab = [re.match(pattern, word).groups()[0] for word in vocabulary]\n",
    "\n",
    "\n",
    "# Validate the vocabulary size\n",
    "print(\"Number of words in vocab:\",len(vocab))\n",
    "print(\"Random sample of vocab:\",random.sample(vocab,10))"
   ]
  },
  {
   "cell_type": "markdown",
   "metadata": {},
   "source": [
    "From above, it can be seen that all required data is loaded correctly, with the job advertisement dataset having 776 rows of data and the correct data types as well as the vocabulary having 5168 words."
   ]
  },
  {
   "cell_type": "markdown",
   "metadata": {},
   "source": [
    "### Task 2.2 Generate Bag-of-words model\n",
    "In this task, the **Count** vector representation for each job advertisement description is generated"
   ]
  },
  {
   "cell_type": "markdown",
   "metadata": {},
   "source": [
    "#### Task 2.2.1 Generate Count Vectors\n",
    "The Count vector representation will be generated based on the loaded vocabulary."
   ]
  },
  {
   "cell_type": "code",
   "execution_count": 6,
   "metadata": {},
   "outputs": [],
   "source": [
    "# Function to generate the count vector representation\n",
    "def generateCountVec(vocab,data):\n",
    "    # Use vocab as its vocabulary\n",
    "    countVectorizer = CountVectorizer(analyzer='word',vocabulary = set(vocab))\n",
    "    count_features = countVectorizer.fit_transform(data)\n",
    "    \n",
    "    # Validate the vector representation by checking if the size is the same as vocab's\n",
    "    print(\"Shape of document-by-word matrix:\",count_features.shape)\n",
    "    feature_names = countVectorizer.get_feature_names()\n",
    "    print(\"Lenght of vocab is same as the length of feature names?:\",vocab == feature_names)\n",
    "    return count_features"
   ]
  },
  {
   "cell_type": "code",
   "execution_count": 7,
   "metadata": {
    "scrolled": true
   },
   "outputs": [
    {
     "name": "stdout",
     "output_type": "stream",
     "text": [
      "Shape of document-by-word matrix: (776, 5168)\n",
      "Lenght of vocab is same as the length of feature names?: True\n"
     ]
    },
    {
     "name": "stderr",
     "output_type": "stream",
     "text": [
      "C:\\Users\\User\\AppData\\Roaming\\Python\\Python37\\site-packages\\sklearn\\utils\\deprecation.py:87: FutureWarning: Function get_feature_names is deprecated; get_feature_names is deprecated in 1.0 and will be removed in 1.2. Please use get_feature_names_out instead.\n",
      "  warnings.warn(msg, category=FutureWarning)\n"
     ]
    }
   ],
   "source": [
    "count_features = generateCountVec(vocab,list(job_df['Processed_description'].values))"
   ]
  },
  {
   "cell_type": "code",
   "execution_count": 8,
   "metadata": {},
   "outputs": [],
   "source": [
    "# Function to validate the count vector representation\n",
    "vocab = sorted(list(vocab))\n",
    "def validator(data_features, vocab, indx, df):\n",
    "    # Get the webindex of the job ad\n",
    "    print(\"Webindex:\", df['Webindex'][indx])\n",
    "    print(\"--------------------------------------------\\n\")\n",
    "    # Get full description without cleaning\n",
    "    print(\"Full Description:\",df['Description'][indx],'\\n')\n",
    "    # Get cleaned description\n",
    "    print(\"Tokens:\",df['Processed_description'][indx])\n",
    "    print(\"--------------------------------------------\\n\")\n",
    "    # Print vector representation as 'word:count of word'\n",
    "    print(\"Vector representation:\\n\") \n",
    "    for word, value in zip(vocab, data_features.toarray()[indx]): \n",
    "        if value > 0:\n",
    "            print(word+\":\"+str(value), end =' ')"
   ]
  },
  {
   "cell_type": "code",
   "execution_count": 9,
   "metadata": {
    "scrolled": false
   },
   "outputs": [
    {
     "name": "stdout",
     "output_type": "stream",
     "text": [
      "Webindex: 71080674\n",
      "--------------------------------------------\n",
      "\n",
      "Full Description: Eclypse Recruitment is currently looking for a NursingHome Manager for a beautiful nursing home located in Cheltenham in Gloucestershire. The home is part of an excellentorganisation where quality care and commitment to high standards are theirnumber **** priority. The nursing home weare recruiting for is a stunning building located centrally in Cheltenham andoffers a beautiful home for elderly frail nursing residents. The home we are recruiting for is split over **** floors andoffers general nursing care to over 65 years olds. The home produces a large profit each yearfor this excellent group which is why we are looking for someone truly exceptional to come on board and managing this nursing home. To apply for this post you must be able to meet thefollowing requirements: RGNQualified RegisteredManagers Award or NVQ Level 4 in Care Management Youmust have experience in managing nursing homes with a minimum bed size of ****residents Youmust be able to display an excellent knowledge of CQC, Safeguarding andNational Minimum Care Standards Youmust have excellent experience in marketing and increasing occupancy in anursing home Youmust previous home management experience Excellentleadership skills Excellentbudget management experience and business acumen The client we are recruiting for are looking for someonewho is highly experienced, professional and totally committed to deliveringhigh standards of nursing care in nursing homes. You must be a manager who leads by example and someonewho can manage change. The client are looking to pay a basic salary of **** a performance related bonus. This is a really excellent opportunity for an exceptionalhome manager to join an amazing organisation. \n",
      "\n",
      "Tokens: eclypse beautiful nursing home located cheltenham gloucestershire home part quality care commitment standards priority nursing home recruiting stunning building located centrally cheltenham andoffers beautiful home elderly frail nursing residents home recruiting split andoffers general nursing care years home produces large profit group exceptional board managing nursing home post meet requirements award nvq level care youmust managing nursing homes minimum bed size residents youmust display cqc safeguarding minimum care standards youmust marketing increasing occupancy home youmust previous home acumen recruiting someonewho highly experienced professional committed standards nursing care nursing homes leads someonewho manage change pay basic performance related bonus amazing organisation\n",
      "--------------------------------------------\n",
      "\n",
      "Vector representation:\n",
      "\n",
      "acumen:1 amazing:1 andoffers:2 award:1 basic:1 beautiful:2 bed:1 board:1 bonus:1 building:1 care:5 centrally:1 change:1 cheltenham:2 commitment:1 committed:1 cqc:1 display:1 eclypse:1 elderly:1 exceptional:1 experienced:1 frail:1 general:1 gloucestershire:1 group:1 highly:1 home:9 homes:2 increasing:1 large:1 leads:1 level:1 located:2 manage:1 managing:2 marketing:1 meet:1 minimum:2 nursing:8 nvq:1 occupancy:1 organisation:1 part:1 pay:1 performance:1 post:1 previous:1 priority:1 produces:1 professional:1 profit:1 quality:1 recruiting:3 related:1 requirements:1 residents:2 safeguarding:1 size:1 someonewho:2 split:1 standards:3 stunning:1 years:1 youmust:4 "
     ]
    }
   ],
   "source": [
    "validator(count_features,vocab,random.randrange(0,job_df.shape[0]),job_df)"
   ]
  },
  {
   "cell_type": "markdown",
   "metadata": {},
   "source": [
    "From above, it can be confirmed that count vector representation is successfully and correctly generated."
   ]
  },
  {
   "cell_type": "markdown",
   "metadata": {},
   "source": [
    "### Task 2.3 Model based on word embeddings\n",
    "In this task, a FastText language model will be used and trained on the pre-processed vocabulary to generate the word embeddings. The reason behind this is because according to  [O'Reilly](https://www.oreilly.com/library/view/deep-learning-essentials/9781785880360/12fe4a55-a5d0-4712-bd68-ac043b87a87e.xhtml), FastText takes into account the internal strucutre of words when learning word representation, which would work very better on syntactic tasks with corpus that has words with multiple morphological forms. GloVe model on the other hand focuses on words co-occurences on the whole corpus.\n",
    "\n",
    "Considering that this is data about job advertisments, it is reasonable to say that the corpus would be morphologically rich. For example, \"accountant\", \"account\", \"accounts\" for a job that is related to Accounting and Finance."
   ]
  },
  {
   "cell_type": "code",
   "execution_count": 10,
   "metadata": {},
   "outputs": [],
   "source": [
    "# Use logging to see what is happening when training the model\n",
    "logging.basicConfig(format='%(asctime)s : %(levelname)s : %(message)s', level=logging.INFO)"
   ]
  },
  {
   "cell_type": "markdown",
   "metadata": {},
   "source": [
    "#### Task 2.3.1 Training the FastText model\n",
    "The pre-processed description of each job advertisement will be used as corpus to train the FastText language model"
   ]
  },
  {
   "cell_type": "code",
   "execution_count": 11,
   "metadata": {},
   "outputs": [],
   "source": [
    "# Function train the FastText language model\n",
    "def buildFTModel(corpus):\n",
    "    # Initialize FastText model with vector size of 100 of the word embedding\n",
    "    modelFT = FastText(vector_size=100)\n",
    "    \n",
    "    # Build vocab using the given corpus\n",
    "    modelFT.build_vocab(corpus_iterable=corpus)\n",
    "    \n",
    "    # Train the laugage model based on the vocabulary\n",
    "    modelFT.train(corpus_iterable=corpus,epochs=modelFT.epochs,total_examples = modelFT.corpus_count,total_words=modelFT.corpus_total_words)\n",
    "    print(modelFT)\n",
    "    return modelFT"
   ]
  },
  {
   "cell_type": "code",
   "execution_count": 12,
   "metadata": {
    "scrolled": true
   },
   "outputs": [
    {
     "name": "stderr",
     "output_type": "stream",
     "text": [
      "2022-09-29 22:19:40,103 : INFO : FastText lifecycle event {'params': 'FastText<vocab=0, vector_size=100, alpha=0.025>', 'datetime': '2022-09-29T22:19:40.102230', 'gensim': '4.2.0', 'python': '3.7.13 (default, Mar 28 2022, 08:03:21) [MSC v.1916 64 bit (AMD64)]', 'platform': 'Windows-10-10.0.19041-SP0', 'event': 'created'}\n",
      "2022-09-29 22:19:40,104 : INFO : collecting all words and their counts\n",
      "2022-09-29 22:19:40,104 : INFO : PROGRESS: at sentence #0, processed 0 words, keeping 0 word types\n",
      "2022-09-29 22:19:40,118 : INFO : collected 5168 word types from a corpus of 81205 raw words and 776 sentences\n",
      "2022-09-29 22:19:40,119 : INFO : Creating a fresh vocabulary\n",
      "2022-09-29 22:19:40,131 : INFO : FastText lifecycle event {'msg': 'effective_min_count=5 retains 2741 unique words (53.04% of original 5168, drops 2427)', 'datetime': '2022-09-29T22:19:40.130214', 'gensim': '4.2.0', 'python': '3.7.13 (default, Mar 28 2022, 08:03:21) [MSC v.1916 64 bit (AMD64)]', 'platform': 'Windows-10-10.0.19041-SP0', 'event': 'prepare_vocab'}\n",
      "2022-09-29 22:19:40,131 : INFO : FastText lifecycle event {'msg': 'effective_min_count=5 leaves 74724 word corpus (92.02% of original 81205, drops 6481)', 'datetime': '2022-09-29T22:19:40.131212', 'gensim': '4.2.0', 'python': '3.7.13 (default, Mar 28 2022, 08:03:21) [MSC v.1916 64 bit (AMD64)]', 'platform': 'Windows-10-10.0.19041-SP0', 'event': 'prepare_vocab'}\n",
      "2022-09-29 22:19:40,151 : INFO : deleting the raw counts dictionary of 5168 items\n",
      "2022-09-29 22:19:40,152 : INFO : sample=0.001 downsamples 34 most-common words\n",
      "2022-09-29 22:19:40,153 : INFO : FastText lifecycle event {'msg': 'downsampling leaves estimated 73204.24548462815 word corpus (98.0%% of prior 74724)', 'datetime': '2022-09-29T22:19:40.153094', 'gensim': '4.2.0', 'python': '3.7.13 (default, Mar 28 2022, 08:03:21) [MSC v.1916 64 bit (AMD64)]', 'platform': 'Windows-10-10.0.19041-SP0', 'event': 'prepare_vocab'}\n",
      "2022-09-29 22:19:40,201 : INFO : estimated required memory for 2741 words, 2000000 buckets and 100 dimensions: 804102668 bytes\n",
      "2022-09-29 22:19:40,201 : INFO : resetting layer weights\n",
      "2022-09-29 22:19:41,203 : INFO : FastText lifecycle event {'update': False, 'trim_rule': 'None', 'datetime': '2022-09-29T22:19:41.203285', 'gensim': '4.2.0', 'python': '3.7.13 (default, Mar 28 2022, 08:03:21) [MSC v.1916 64 bit (AMD64)]', 'platform': 'Windows-10-10.0.19041-SP0', 'event': 'build_vocab'}\n",
      "2022-09-29 22:19:41,204 : INFO : FastText lifecycle event {'msg': 'training model with 3 workers on 2741 vocabulary and 100 features, using sg=0 hs=0 sample=0.001 negative=5 window=5 shrink_windows=True', 'datetime': '2022-09-29T22:19:41.204283', 'gensim': '4.2.0', 'python': '3.7.13 (default, Mar 28 2022, 08:03:21) [MSC v.1916 64 bit (AMD64)]', 'platform': 'Windows-10-10.0.19041-SP0', 'event': 'train'}\n",
      "2022-09-29 22:19:41,545 : INFO : EPOCH 0: training on 81205 raw words (73254 effective words) took 0.3s, 216996 effective words/s\n",
      "2022-09-29 22:19:41,890 : INFO : EPOCH 1: training on 81205 raw words (73243 effective words) took 0.3s, 214135 effective words/s\n",
      "2022-09-29 22:19:42,236 : INFO : EPOCH 2: training on 81205 raw words (73231 effective words) took 0.3s, 213124 effective words/s\n",
      "2022-09-29 22:19:42,576 : INFO : EPOCH 3: training on 81205 raw words (73169 effective words) took 0.3s, 217252 effective words/s\n",
      "2022-09-29 22:19:42,903 : INFO : EPOCH 4: training on 81205 raw words (73204 effective words) took 0.3s, 226342 effective words/s\n",
      "2022-09-29 22:19:42,904 : INFO : FastText lifecycle event {'msg': 'training on 406025 raw words (366101 effective words) took 1.7s, 215417 effective words/s', 'datetime': '2022-09-29T22:19:42.904767', 'gensim': '4.2.0', 'python': '3.7.13 (default, Mar 28 2022, 08:03:21) [MSC v.1916 64 bit (AMD64)]', 'platform': 'Windows-10-10.0.19041-SP0', 'event': 'train'}\n"
     ]
    },
    {
     "name": "stdout",
     "output_type": "stream",
     "text": [
      "FastText<vocab=2741, vector_size=100, alpha=0.025>\n"
     ]
    }
   ],
   "source": [
    "# Use the pre-processed description saved in job_df as the corpus to train the FastText model\n",
    "corpus =[desc.split(' ') for desc in job_df['Processed_description'].values]\n",
    "modelFT = buildFTModel(corpus)"
   ]
  },
  {
   "cell_type": "markdown",
   "metadata": {},
   "source": [
    "From above, it can be seen that the model drops words that appears 5 times or less from the message ```'msg': 'effective_min_count=5 retains 2741 unique words (53.04% of original 5168, drops 2427)'```"
   ]
  },
  {
   "cell_type": "code",
   "execution_count": 13,
   "metadata": {
    "scrolled": true
   },
   "outputs": [
    {
     "name": "stdout",
     "output_type": "stream",
     "text": [
      "FastTextKeyedVectors<vector_size=100, 2741 keys>\n"
     ]
    }
   ],
   "source": [
    "# Extract the KeyedVectors object from the trained model\n",
    "modelFT_wv = modelFT.wv\n",
    "print(modelFT_wv)"
   ]
  },
  {
   "cell_type": "markdown",
   "metadata": {},
   "source": [
    "From above, it can be seen that the final size of vocabulary generated is 2741. Let's check out the model with some examples"
   ]
  },
  {
   "cell_type": "code",
   "execution_count": 14,
   "metadata": {
    "scrolled": true
   },
   "outputs": [
    {
     "name": "stdout",
     "output_type": "stream",
     "text": [
      "#####Checking on word: account \t#####\n",
      "Similarity between account and accounts 0.9993176\n",
      "\n",
      "Similarity between account and accounting 0.9985574\n",
      "\n",
      "Similarity between account and accountant 0.999921\n",
      "\n",
      "Most similar words with account : [('accountant', 0.9999210238456726), ('accountability', 0.9997172355651855), ('accountabilities', 0.9997133612632751), ('accordance', 0.9997032880783081), ('managed', 0.9996973872184753), ('components', 0.9996920824050903), ('abilities', 0.9996861815452576), ('risk', 0.9996724128723145), ('ets', 0.9996700286865234), ('rep', 0.9996647834777832)]\n",
      "-----------------------------------\n",
      "#####Checking on word: engineer \t#####\n",
      "Similarity between engineer and engineering 0.9992981\n",
      "\n",
      "Similarity between engineer and engineers 0.9996809\n",
      "\n",
      "Most similar words with engineer : [('engineers', 0.9996808171272278), ('engineering', 0.999298095703125), ('mechanical', 0.9976637363433838), ('engines', 0.9971970915794373), ('electromechanical', 0.9970653057098389), ('electrical', 0.9970190525054932), ('technical', 0.9960370659828186), ('geotechnical', 0.9957587122917175), ('design', 0.9952905774116516), ('electronic', 0.9951698184013367)]\n",
      "-----------------------------------\n"
     ]
    }
   ],
   "source": [
    "# Get some words with different morphological forms\n",
    "word_morphs = {'account':['accounts','accounting','accountant'],'engineer':['engineering','engineers']}\n",
    "\n",
    "\n",
    "for word in word_morphs.keys():\n",
    "    # For each word, check if the word exist in the vocabulary\n",
    "    print(word,\"does not exist\") if word not in modelFT_wv.key_to_index else \"\"\n",
    "    print(\"#####Checking on word:\",word,\"\\t#####\")\n",
    "    for morph in word_morphs[word]:\n",
    "        print(word,\"does not exist\") if word not in modelFT_wv.key_to_index else \"\"\n",
    "        print(\"Similarity between\",word,\"and\",morph,str(modelFT_wv.similarity(word, morph)))\n",
    "        print()\n",
    "    print(\"Most similar words with\",word,\":\",modelFT_wv.most_similar(word, topn=10))\n",
    "    print('-----------------------------------')"
   ]
  },
  {
   "cell_type": "markdown",
   "metadata": {},
   "source": [
    "From above, it can be seen that the model actually captures the similarity of these words! The 10 most similar words listed for each word are also indeed very similar!"
   ]
  },
  {
   "cell_type": "markdown",
   "metadata": {},
   "source": [
    "#### Task 2.3.2 Generate unweighted document embeddings\n",
    "In this task, the unweighted vector representation of job advertisement descriptions based on the trained model will be generated"
   ]
  },
  {
   "cell_type": "markdown",
   "metadata": {},
   "source": [
    "As generating the vector representation requires each description to be a list of tokens rather than a string, a new column with the pre-processed descriptions split into list of tokens will be generated and added into job_df"
   ]
  },
  {
   "cell_type": "code",
   "execution_count": 15,
   "metadata": {},
   "outputs": [],
   "source": [
    "# Transform string of tokens for each description into a list of tokens for each description\n",
    "job_df['Tokens'] = [tokens.split(' ') for tokens in list(job_df['Processed_description'].values)]"
   ]
  },
  {
   "cell_type": "code",
   "execution_count": 16,
   "metadata": {
    "scrolled": false
   },
   "outputs": [
    {
     "data": {
      "text/html": [
       "<div>\n",
       "<style scoped>\n",
       "    .dataframe tbody tr th:only-of-type {\n",
       "        vertical-align: middle;\n",
       "    }\n",
       "\n",
       "    .dataframe tbody tr th {\n",
       "        vertical-align: top;\n",
       "    }\n",
       "\n",
       "    .dataframe thead th {\n",
       "        text-align: right;\n",
       "    }\n",
       "</style>\n",
       "<table border=\"1\" class=\"dataframe\">\n",
       "  <thead>\n",
       "    <tr style=\"text-align: right;\">\n",
       "      <th></th>\n",
       "      <th>Webindex</th>\n",
       "      <th>Processed_description</th>\n",
       "      <th>Target</th>\n",
       "      <th>Tokens</th>\n",
       "    </tr>\n",
       "  </thead>\n",
       "  <tbody>\n",
       "    <tr>\n",
       "      <th>138</th>\n",
       "      <td>71432102</td>\n",
       "      <td>qualified accountant european financial contro...</td>\n",
       "      <td>Accounting_Finance</td>\n",
       "      <td>[qualified, accountant, european, financial, c...</td>\n",
       "    </tr>\n",
       "    <tr>\n",
       "      <th>409</th>\n",
       "      <td>68179675</td>\n",
       "      <td>overview carillion companies substantial portf...</td>\n",
       "      <td>Engineering</td>\n",
       "      <td>[overview, carillion, companies, substantial, ...</td>\n",
       "    </tr>\n",
       "    <tr>\n",
       "      <th>271</th>\n",
       "      <td>67753890</td>\n",
       "      <td>progressive global energy operations engineer ...</td>\n",
       "      <td>Engineering</td>\n",
       "      <td>[progressive, global, energy, operations, engi...</td>\n",
       "    </tr>\n",
       "    <tr>\n",
       "      <th>689</th>\n",
       "      <td>67959409</td>\n",
       "      <td>deputy rgn rmn swansea time permanent compass ...</td>\n",
       "      <td>Healthcare_Nursing</td>\n",
       "      <td>[deputy, rgn, rmn, swansea, time, permanent, c...</td>\n",
       "    </tr>\n",
       "    <tr>\n",
       "      <th>671</th>\n",
       "      <td>68806418</td>\n",
       "      <td>circa bonus car allowance pension home england...</td>\n",
       "      <td>Sales</td>\n",
       "      <td>[circa, bonus, car, allowance, pension, home, ...</td>\n",
       "    </tr>\n",
       "  </tbody>\n",
       "</table>\n",
       "</div>"
      ],
      "text/plain": [
       "     Webindex                              Processed_description  \\\n",
       "138  71432102  qualified accountant european financial contro...   \n",
       "409  68179675  overview carillion companies substantial portf...   \n",
       "271  67753890  progressive global energy operations engineer ...   \n",
       "689  67959409  deputy rgn rmn swansea time permanent compass ...   \n",
       "671  68806418  circa bonus car allowance pension home england...   \n",
       "\n",
       "                 Target                                             Tokens  \n",
       "138  Accounting_Finance  [qualified, accountant, european, financial, c...  \n",
       "409         Engineering  [overview, carillion, companies, substantial, ...  \n",
       "271         Engineering  [progressive, global, energy, operations, engi...  \n",
       "689  Healthcare_Nursing  [deputy, rgn, rmn, swansea, time, permanent, c...  \n",
       "671               Sales  [circa, bonus, car, allowance, pension, home, ...  "
      ]
     },
     "execution_count": 16,
     "metadata": {},
     "output_type": "execute_result"
    }
   ],
   "source": [
    "# Check out some of the data\n",
    "job_df[['Webindex','Processed_description','Target','Tokens']].sample(n=5)"
   ]
  },
  {
   "cell_type": "code",
   "execution_count": 17,
   "metadata": {},
   "outputs": [],
   "source": [
    "# Function to generate document vectors based on the pre-trained word embedding model\n",
    "def gen_docVecs(wordVec,desc_tokens):\n",
    "    # Create empty dataframe to store all document embeddings of job ad descriptions\n",
    "    docVecs = pd.DataFrame()\n",
    "    \n",
    "    # For each document\n",
    "    for indx in range(len(desc_tokens)):\n",
    "        # Load tokens of each document\n",
    "        tokens = desc_tokens[indx]\n",
    "        # Create a temporary dataframe\n",
    "        temp = pd.DataFrame()\n",
    "        # For each token ib the doc\n",
    "        for tok_indx in range(len(tokens)):\n",
    "            try:\n",
    "                token = tokens[tok_indx]\n",
    "                # Get the word embedding if it is preset\n",
    "                word_vec = wordVec[token]\n",
    "                # Append to temporary dataframe\n",
    "                temp = temp.append(pd.Series(word_vec),ignore_index=True)\n",
    "            except:\n",
    "                pass\n",
    "        # Take the sum of each column\n",
    "        doc_vec = temp.sum()\n",
    "        # Append the value into the dataframe\n",
    "        docVecs = docVecs.append(doc_vec,ignore_index=True)\n",
    "    return docVecs"
   ]
  },
  {
   "cell_type": "code",
   "execution_count": 18,
   "metadata": {},
   "outputs": [],
   "source": [
    "# Get the unweighted document embeddings\n",
    "ftext_dv = gen_docVecs(modelFT_wv,job_df['Tokens'])"
   ]
  },
  {
   "cell_type": "markdown",
   "metadata": {},
   "source": [
    "Now that the unweighted document embeddings is generated, it has to be checked so that it contains no null values"
   ]
  },
  {
   "cell_type": "code",
   "execution_count": 19,
   "metadata": {},
   "outputs": [
    {
     "data": {
      "text/plain": [
       "0"
      ]
     },
     "execution_count": 19,
     "metadata": {},
     "output_type": "execute_result"
    }
   ],
   "source": [
    "ftext_dv.isna().any().sum()"
   ]
  },
  {
   "cell_type": "markdown",
   "metadata": {},
   "source": [
    "From above, it can be seen that the unweighted vector representation is successfully generated."
   ]
  },
  {
   "cell_type": "markdown",
   "metadata": {},
   "source": [
    "#### Task 2.3.3 Generate TF-IDF weighted document vectors\n",
    "In this task, the weighted document vectors will be generated based on the TF-IDF vectors of the data. As generating this data requires the tf-idf weights of the words, it would be generated as well"
   ]
  },
  {
   "cell_type": "code",
   "execution_count": 20,
   "metadata": {
    "scrolled": true
   },
   "outputs": [
    {
     "data": {
      "text/plain": [
       "{0: 'aap',\n",
       " 1: 'aaron',\n",
       " 2: 'aat',\n",
       " 3: 'abb',\n",
       " 4: 'abenefit',\n",
       " 5: 'aberdeen',\n",
       " 6: 'abi',\n",
       " 7: 'abilities',\n",
       " 8: 'abreast',\n",
       " 9: 'abroad',\n",
       " 10: 'absence',\n",
       " 11: 'absolute',\n",
       " 12: 'ac',\n",
       " 13: 'aca',\n",
       " 14: 'academic',\n",
       " 15: 'academy',\n",
       " 16: 'acca',\n",
       " 17: 'accept',\n",
       " 18: 'acceptable',\n",
       " 19: 'acceptance',\n",
       " 20: 'accepted',\n",
       " 21: 'access',\n",
       " 22: 'accessible',\n",
       " 23: 'accident',\n",
       " 24: 'accommodates',\n",
       " 25: 'accommodation',\n",
       " 26: 'accomplished',\n",
       " 27: 'accordance',\n",
       " 28: 'account',\n",
       " 29: 'accountabilities',\n",
       " 30: 'accountability',\n",
       " 31: 'accountable',\n",
       " 32: 'accountancy',\n",
       " 33: 'accountant',\n",
       " 34: 'accountants',\n",
       " 35: 'accounting',\n",
       " 36: 'accounts',\n",
       " 37: 'accreditation',\n",
       " 38: 'accredited',\n",
       " 39: 'accruals',\n",
       " 40: 'accuracy',\n",
       " 41: 'accurate',\n",
       " 42: 'accurately',\n",
       " 43: 'achievable',\n",
       " 44: 'achieve',\n",
       " 45: 'achieved',\n",
       " 46: 'achievement',\n",
       " 47: 'achievements',\n",
       " 48: 'achiever',\n",
       " 49: 'achieving',\n",
       " 50: 'acii',\n",
       " 51: 'acquired',\n",
       " 52: 'acquisition',\n",
       " 53: 'acquisitions',\n",
       " 54: 'act',\n",
       " 55: 'acting',\n",
       " 56: 'action',\n",
       " 57: 'actions',\n",
       " 58: 'actionscript',\n",
       " 59: 'active',\n",
       " 60: 'actively',\n",
       " 61: 'activites',\n",
       " 62: 'activities',\n",
       " 63: 'activity',\n",
       " 64: 'acts',\n",
       " 65: 'actual',\n",
       " 66: 'actuarial',\n",
       " 67: 'acumen',\n",
       " 68: 'acute',\n",
       " 69: 'ad',\n",
       " 70: 'adam',\n",
       " 71: 'adapt',\n",
       " 72: 'adaptability',\n",
       " 73: 'add',\n",
       " 74: 'added',\n",
       " 75: 'addiction',\n",
       " 76: 'adding',\n",
       " 77: 'addition',\n",
       " 78: 'additional',\n",
       " 79: 'additionally',\n",
       " 80: 'additions',\n",
       " 81: 'address',\n",
       " 82: 'addresses',\n",
       " 83: 'addressing',\n",
       " 84: 'adecco',\n",
       " 85: 'adept',\n",
       " 86: 'adequacy',\n",
       " 87: 'adequate',\n",
       " 88: 'adequately',\n",
       " 89: 'adhere',\n",
       " 90: 'adhered',\n",
       " 91: 'adherence',\n",
       " 92: 'adhering',\n",
       " 93: 'adhoc',\n",
       " 94: 'adjust',\n",
       " 95: 'adjuster',\n",
       " 96: 'adjusting',\n",
       " 97: 'adjustments',\n",
       " 98: 'admin',\n",
       " 99: 'administer',\n",
       " 100: 'administered',\n",
       " 101: 'administering',\n",
       " 102: 'administration',\n",
       " 103: 'administrative',\n",
       " 104: 'administrator',\n",
       " 105: 'administrators',\n",
       " 106: 'admission',\n",
       " 107: 'admissions',\n",
       " 108: 'adobe',\n",
       " 109: 'adolescents',\n",
       " 110: 'adopt',\n",
       " 111: 'adopted',\n",
       " 112: 'adopting',\n",
       " 113: 'adrian',\n",
       " 114: 'ads',\n",
       " 115: 'adstream',\n",
       " 116: 'adult',\n",
       " 117: 'adults',\n",
       " 118: 'advance',\n",
       " 119: 'advanced',\n",
       " 120: 'advancement',\n",
       " 121: 'advances',\n",
       " 122: 'advantage',\n",
       " 123: 'advantageous',\n",
       " 124: 'advert',\n",
       " 125: 'advertise',\n",
       " 126: 'advertised',\n",
       " 127: 'advertisement',\n",
       " 128: 'advertising',\n",
       " 129: 'advertsing',\n",
       " 130: 'advice',\n",
       " 131: 'advise',\n",
       " 132: 'advised',\n",
       " 133: 'adviser',\n",
       " 134: 'advisers',\n",
       " 135: 'advising',\n",
       " 136: 'advisor',\n",
       " 137: 'advisors',\n",
       " 138: 'advisory',\n",
       " 139: 'aeronautical',\n",
       " 140: 'aerospace',\n",
       " 141: 'affairs',\n",
       " 142: 'affect',\n",
       " 143: 'affected',\n",
       " 144: 'affecting',\n",
       " 145: 'affinity',\n",
       " 146: 'affordable',\n",
       " 147: 'africa',\n",
       " 148: 'aftermarket',\n",
       " 149: 'afternoon',\n",
       " 150: 'afternoons',\n",
       " 151: 'age',\n",
       " 152: 'aged',\n",
       " 153: 'agencies',\n",
       " 154: 'agency',\n",
       " 155: 'agent',\n",
       " 156: 'agents',\n",
       " 157: 'ages',\n",
       " 158: 'aggressive',\n",
       " 159: 'agile',\n",
       " 160: 'ago',\n",
       " 161: 'agree',\n",
       " 162: 'agreed',\n",
       " 163: 'agreement',\n",
       " 164: 'agreements',\n",
       " 165: 'agy',\n",
       " 166: 'ahead',\n",
       " 167: 'ahu',\n",
       " 168: 'aid',\n",
       " 169: 'aided',\n",
       " 170: 'aids',\n",
       " 171: 'aim',\n",
       " 172: 'aimed',\n",
       " 173: 'aims',\n",
       " 174: 'air',\n",
       " 175: 'aircraft',\n",
       " 176: 'airdrie',\n",
       " 177: 'alarm',\n",
       " 178: 'alarms',\n",
       " 179: 'albans',\n",
       " 180: 'alcohol',\n",
       " 181: 'aldredirweb',\n",
       " 182: 'alecto',\n",
       " 183: 'alerting',\n",
       " 184: 'alex',\n",
       " 185: 'algorithm',\n",
       " 186: 'algorithms',\n",
       " 187: 'aligned',\n",
       " 188: 'alignment',\n",
       " 189: 'alike',\n",
       " 190: 'allied',\n",
       " 191: 'allocated',\n",
       " 192: 'allocation',\n",
       " 193: 'allowance',\n",
       " 194: 'allowances',\n",
       " 195: 'allowing',\n",
       " 196: 'alm',\n",
       " 197: 'alongside',\n",
       " 198: 'alternate',\n",
       " 199: 'alternative',\n",
       " 200: 'alternatively',\n",
       " 201: 'altrincham',\n",
       " 202: 'aluminium',\n",
       " 203: 'amazing',\n",
       " 204: 'ambassador',\n",
       " 205: 'ambition',\n",
       " 206: 'ambitions',\n",
       " 207: 'ambitious',\n",
       " 208: 'ambridge',\n",
       " 209: 'amenities',\n",
       " 210: 'america',\n",
       " 211: 'american',\n",
       " 212: 'amigo',\n",
       " 213: 'aml',\n",
       " 214: 'amount',\n",
       " 215: 'amounts',\n",
       " 216: 'amp',\n",
       " 217: 'amrywiol',\n",
       " 218: 'anaesthetics',\n",
       " 219: 'anaesthetist',\n",
       " 220: 'analog',\n",
       " 221: 'analogue',\n",
       " 222: 'analyse',\n",
       " 223: 'analysers',\n",
       " 224: 'analyses',\n",
       " 225: 'analysing',\n",
       " 226: 'analysis',\n",
       " 227: 'analyst',\n",
       " 228: 'analystbelfast',\n",
       " 229: 'analysts',\n",
       " 230: 'analytical',\n",
       " 231: 'analytics',\n",
       " 232: 'ancillary',\n",
       " 233: 'andoffers',\n",
       " 234: 'andrew',\n",
       " 235: 'android',\n",
       " 236: 'androidoptometryapp',\n",
       " 237: 'andy',\n",
       " 238: 'angiography',\n",
       " 239: 'anglia',\n",
       " 240: 'annual',\n",
       " 241: 'annum',\n",
       " 242: 'anomalies',\n",
       " 243: 'answer',\n",
       " 244: 'answered',\n",
       " 245: 'answering',\n",
       " 246: 'anthony',\n",
       " 247: 'anticipate',\n",
       " 248: 'anticipated',\n",
       " 249: 'antony',\n",
       " 250: 'apartments',\n",
       " 251: 'api',\n",
       " 252: 'apmp',\n",
       " 253: 'appearance',\n",
       " 254: 'appetite',\n",
       " 255: 'appleoptometry',\n",
       " 256: 'applicable',\n",
       " 257: 'applicant',\n",
       " 258: 'applicants',\n",
       " 259: 'application',\n",
       " 260: 'applications',\n",
       " 261: 'applied',\n",
       " 262: 'applies',\n",
       " 263: 'applying',\n",
       " 264: 'appoint',\n",
       " 265: 'appointed',\n",
       " 266: 'appointment',\n",
       " 267: 'appointments',\n",
       " 268: 'appraisal',\n",
       " 269: 'appraisals',\n",
       " 270: 'appraising',\n",
       " 271: 'appreciation',\n",
       " 272: 'apprentice',\n",
       " 273: 'apprenticeship',\n",
       " 274: 'approach',\n",
       " 275: 'approachable',\n",
       " 276: 'approaches',\n",
       " 277: 'appropriately',\n",
       " 278: 'approval',\n",
       " 279: 'approved',\n",
       " 280: 'approx',\n",
       " 281: 'approximately',\n",
       " 282: 'aptitude',\n",
       " 283: 'aptrack',\n",
       " 284: 'ar',\n",
       " 285: 'architect',\n",
       " 286: 'architects',\n",
       " 287: 'architectural',\n",
       " 288: 'architecture',\n",
       " 289: 'architectures',\n",
       " 290: 'archiving',\n",
       " 291: 'area',\n",
       " 292: 'areas',\n",
       " 293: 'arena',\n",
       " 294: 'arise',\n",
       " 295: 'arisen',\n",
       " 296: 'arm',\n",
       " 297: 'armed',\n",
       " 298: 'arrange',\n",
       " 299: 'arranged',\n",
       " 300: 'arrangement',\n",
       " 301: 'arrangements',\n",
       " 302: 'arranging',\n",
       " 303: 'array',\n",
       " 304: 'arrow',\n",
       " 305: 'art',\n",
       " 306: 'articulate',\n",
       " 307: 'articulating',\n",
       " 308: 'artists',\n",
       " 309: 'asap',\n",
       " 310: 'asbestos',\n",
       " 311: 'ascertain',\n",
       " 312: 'ascot',\n",
       " 313: 'asda',\n",
       " 314: 'ashby',\n",
       " 315: 'ashford',\n",
       " 316: 'ashley',\n",
       " 317: 'asia',\n",
       " 318: 'asic',\n",
       " 319: 'asked',\n",
       " 320: 'asp',\n",
       " 321: 'aspect',\n",
       " 322: 'aspects',\n",
       " 323: 'aspirations',\n",
       " 324: 'aspire',\n",
       " 325: 'aspireinc',\n",
       " 326: 'assembler',\n",
       " 327: 'assemblies',\n",
       " 328: 'assembly',\n",
       " 329: 'assertive',\n",
       " 330: 'assess',\n",
       " 331: 'assessed',\n",
       " 332: 'assessing',\n",
       " 333: 'assessment',\n",
       " 334: 'assessments',\n",
       " 335: 'assessor',\n",
       " 336: 'assessors',\n",
       " 337: 'asset',\n",
       " 338: 'assets',\n",
       " 339: 'assigned',\n",
       " 340: 'assignment',\n",
       " 341: 'assignments',\n",
       " 342: 'assimilate',\n",
       " 343: 'assist',\n",
       " 344: 'assistance',\n",
       " 345: 'assistant',\n",
       " 346: 'assistants',\n",
       " 347: 'assisted',\n",
       " 348: 'assisting',\n",
       " 349: 'assists',\n",
       " 350: 'associate',\n",
       " 351: 'associates',\n",
       " 352: 'association',\n",
       " 353: 'assume',\n",
       " 354: 'assuming',\n",
       " 355: 'assumptions',\n",
       " 356: 'assurance',\n",
       " 357: 'assured',\n",
       " 358: 'astute',\n",
       " 359: 'ate',\n",
       " 360: 'atmosphere',\n",
       " 361: 'att',\n",
       " 362: 'attached',\n",
       " 363: 'attend',\n",
       " 364: 'attendance',\n",
       " 365: 'attending',\n",
       " 366: 'attention',\n",
       " 367: 'attitude',\n",
       " 368: 'attitudes',\n",
       " 369: 'attract',\n",
       " 370: 'attracting',\n",
       " 371: 'attractive',\n",
       " 372: 'attracts',\n",
       " 373: 'attributes',\n",
       " 374: 'audi',\n",
       " 375: 'audience',\n",
       " 376: 'audiences',\n",
       " 377: 'audio',\n",
       " 378: 'audit',\n",
       " 379: 'auditing',\n",
       " 380: 'auditor',\n",
       " 381: 'auditors',\n",
       " 382: 'audits',\n",
       " 383: 'authorisation',\n",
       " 384: 'authorised',\n",
       " 385: 'authorities',\n",
       " 386: 'authority',\n",
       " 387: 'authorized',\n",
       " 388: 'autism',\n",
       " 389: 'auto',\n",
       " 390: 'autocad',\n",
       " 391: 'autodesk',\n",
       " 392: 'automated',\n",
       " 393: 'automatic',\n",
       " 394: 'automatically',\n",
       " 395: 'automation',\n",
       " 396: 'automotive',\n",
       " 397: 'autonomous',\n",
       " 398: 'autonomously',\n",
       " 399: 'autonomy',\n",
       " 400: 'auxiliaries',\n",
       " 401: 'auxiliary',\n",
       " 402: 'av',\n",
       " 403: 'availability',\n",
       " 404: 'avenues',\n",
       " 405: 'average',\n",
       " 406: 'avon',\n",
       " 407: 'avse',\n",
       " 408: 'award',\n",
       " 409: 'awarded',\n",
       " 410: 'awards',\n",
       " 411: 'awardwinning',\n",
       " 412: 'aware',\n",
       " 413: 'awareness',\n",
       " 414: 'ax',\n",
       " 415: 'axapta',\n",
       " 416: 'axis',\n",
       " 417: 'aylesbury',\n",
       " 418: 'ba',\n",
       " 419: 'bachelor',\n",
       " 420: \"bachelor's\",\n",
       " 421: 'back',\n",
       " 422: 'backed',\n",
       " 423: 'backend',\n",
       " 424: 'background',\n",
       " 425: 'backgrounds',\n",
       " 426: 'backing',\n",
       " 427: 'backtesting',\n",
       " 428: 'backup',\n",
       " 429: 'bacs',\n",
       " 430: 'badenoch',\n",
       " 431: 'bailey',\n",
       " 432: 'baking',\n",
       " 433: 'balance',\n",
       " 434: 'balances',\n",
       " 435: 'band',\n",
       " 436: 'bank',\n",
       " 437: 'banking',\n",
       " 438: 'banks',\n",
       " 439: 'barchester',\n",
       " 440: \"barchester's\",\n",
       " 441: 'barns',\n",
       " 442: 'barnsley',\n",
       " 443: 'barry',\n",
       " 444: 'base',\n",
       " 445: 'baseband',\n",
       " 446: 'basel',\n",
       " 447: 'bases',\n",
       " 448: 'basic',\n",
       " 449: 'basingstoke',\n",
       " 450: 'basis',\n",
       " 451: 'batch',\n",
       " 452: 'bath',\n",
       " 453: 'bathing',\n",
       " 454: 'bathroom',\n",
       " 455: 'bathrooms',\n",
       " 456: 'bdm',\n",
       " 457: 'beacon',\n",
       " 458: 'bearings',\n",
       " 459: 'beautiful',\n",
       " 460: 'becky',\n",
       " 461: 'bed',\n",
       " 462: 'bedded',\n",
       " 463: 'bedford',\n",
       " 464: 'bedfordshire',\n",
       " 465: 'beds',\n",
       " 466: 'began',\n",
       " 467: 'begin',\n",
       " 468: 'behalf',\n",
       " 469: 'behaviour',\n",
       " 470: 'behavioural',\n",
       " 471: 'behaviours',\n",
       " 472: 'belfast',\n",
       " 473: 'belief',\n",
       " 474: 'believes',\n",
       " 475: 'bell',\n",
       " 476: 'belt',\n",
       " 477: 'ben',\n",
       " 478: 'bench',\n",
       " 479: 'beneficial',\n",
       " 480: 'beneficiaries',\n",
       " 481: 'benefit',\n",
       " 482: 'benelux',\n",
       " 483: 'beng',\n",
       " 484: 'benn',\n",
       " 485: 'bens',\n",
       " 486: 'berkshire',\n",
       " 487: 'bespoke',\n",
       " 488: 'beverage',\n",
       " 489: 'bexhill',\n",
       " 490: 'bi',\n",
       " 491: 'bias',\n",
       " 492: 'biased',\n",
       " 493: 'bid',\n",
       " 494: 'bids',\n",
       " 495: 'big',\n",
       " 496: 'biggest',\n",
       " 497: 'bikes',\n",
       " 498: 'billing',\n",
       " 499: 'billinghay',\n",
       " 500: 'billion',\n",
       " 501: 'bills',\n",
       " 502: 'biology',\n",
       " 503: 'birmingham',\n",
       " 504: 'birthdays',\n",
       " 505: 'bit',\n",
       " 506: 'black',\n",
       " 507: 'blackburn',\n",
       " 508: 'blake',\n",
       " 509: 'blind',\n",
       " 510: 'blocked',\n",
       " 511: 'blood',\n",
       " 512: 'bls',\n",
       " 513: 'blue',\n",
       " 514: 'bluebird',\n",
       " 515: 'bluechip',\n",
       " 516: 'bluestones',\n",
       " 517: 'bms',\n",
       " 518: 'bmsbmsit',\n",
       " 519: 'bmsgraduates',\n",
       " 520: 'bmsit',\n",
       " 521: 'bmsuk',\n",
       " 522: 'bn',\n",
       " 523: 'board',\n",
       " 524: 'boast',\n",
       " 525: 'boasts',\n",
       " 526: 'bodies',\n",
       " 527: 'body',\n",
       " 528: 'boiler',\n",
       " 529: 'boilers',\n",
       " 530: 'bolting',\n",
       " 531: 'bonus',\n",
       " 532: 'bonuses',\n",
       " 533: 'book',\n",
       " 534: 'booked',\n",
       " 535: 'booking',\n",
       " 536: 'bookings',\n",
       " 537: 'bookkeeper',\n",
       " 538: 'bookkeeping',\n",
       " 539: 'books',\n",
       " 540: 'boost',\n",
       " 541: 'border',\n",
       " 542: 'boring',\n",
       " 543: 'boss',\n",
       " 544: 'boundaries',\n",
       " 545: 'bournemouth',\n",
       " 546: 'boutique',\n",
       " 547: 'box',\n",
       " 548: 'boxes',\n",
       " 549: 'brace',\n",
       " 550: 'bracknell',\n",
       " 551: 'bradford',\n",
       " 552: 'brain',\n",
       " 553: 'branch',\n",
       " 554: 'branches',\n",
       " 555: 'brand',\n",
       " 556: 'branded',\n",
       " 557: 'brands',\n",
       " 558: 'brbrjob',\n",
       " 559: 'break',\n",
       " 560: 'breakdown',\n",
       " 561: 'breakdowns',\n",
       " 562: 'breaking',\n",
       " 563: 'breheny',\n",
       " 564: 'brian',\n",
       " 565: 'briant',\n",
       " 566: 'bridge',\n",
       " 567: 'briefing',\n",
       " 568: 'briefings',\n",
       " 569: 'briefs',\n",
       " 570: 'bright',\n",
       " 571: 'brighton',\n",
       " 572: 'brilliant',\n",
       " 573: 'bring',\n",
       " 574: 'bringing',\n",
       " 575: 'brings',\n",
       " 576: 'bristol',\n",
       " 577: 'britain',\n",
       " 578: \"britain's\",\n",
       " 579: 'british',\n",
       " 580: 'brixton',\n",
       " 581: 'broad',\n",
       " 582: 'broaden',\n",
       " 583: 'broken',\n",
       " 584: 'broker',\n",
       " 585: 'brokerage',\n",
       " 586: 'brokers',\n",
       " 587: 'broking',\n",
       " 588: 'bromley',\n",
       " 589: 'broughton',\n",
       " 590: 'brown',\n",
       " 591: 'brsalary',\n",
       " 592: 'bs',\n",
       " 593: 'bsc',\n",
       " 594: 'bubble',\n",
       " 595: 'buckinghamshire',\n",
       " 596: 'buckle',\n",
       " 597: 'budget',\n",
       " 598: 'budgetary',\n",
       " 599: 'budgeted',\n",
       " 600: 'budgeting',\n",
       " 601: 'budgets',\n",
       " 602: 'bug',\n",
       " 603: 'build',\n",
       " 604: 'building',\n",
       " 605: 'buildings',\n",
       " 606: 'builds',\n",
       " 607: 'built',\n",
       " 608: 'bulk',\n",
       " 609: 'bull',\n",
       " 610: 'bullability',\n",
       " 611: 'bupa',\n",
       " 612: 'bureau',\n",
       " 613: 'bureaux',\n",
       " 614: 'burgess',\n",
       " 615: 'burscough',\n",
       " 616: 'bury',\n",
       " 617: 'bus',\n",
       " 618: 'businesses',\n",
       " 619: 'busy',\n",
       " 620: 'butler',\n",
       " 621: 'button',\n",
       " 622: 'buy',\n",
       " 623: 'buyer',\n",
       " 624: 'buyers',\n",
       " 625: 'buying',\n",
       " 626: 'buyside',\n",
       " 627: 'buytolet',\n",
       " 628: 'bydwragedd',\n",
       " 629: 'bydwreigiaeth',\n",
       " 630: 'ca',\n",
       " 631: 'cable',\n",
       " 632: 'cabling',\n",
       " 633: 'cad',\n",
       " 634: 'cadstar',\n",
       " 635: 'cae',\n",
       " 636: 'calco',\n",
       " 637: 'calculation',\n",
       " 638: 'calculations',\n",
       " 639: 'calculus',\n",
       " 640: 'calibrating',\n",
       " 641: 'calibration',\n",
       " 642: 'calibre',\n",
       " 643: 'california',\n",
       " 644: 'call',\n",
       " 645: 'called',\n",
       " 646: 'caller',\n",
       " 647: 'calling',\n",
       " 648: 'calls',\n",
       " 649: 'calm',\n",
       " 650: 'cam',\n",
       " 651: 'cambridge',\n",
       " 652: 'cambridgeshire',\n",
       " 653: 'cameras',\n",
       " 654: 'camhs',\n",
       " 655: 'campaign',\n",
       " 656: 'campaigns',\n",
       " 657: 'canada',\n",
       " 658: 'cancer',\n",
       " 659: 'candidates',\n",
       " 660: 'cannock',\n",
       " 661: 'canteen',\n",
       " 662: 'canvassing',\n",
       " 663: 'capabilities',\n",
       " 664: 'capability',\n",
       " 665: 'capable',\n",
       " 666: 'capacity',\n",
       " 667: 'capex',\n",
       " 668: 'capita',\n",
       " 669: 'capital',\n",
       " 670: 'capture',\n",
       " 671: 'car',\n",
       " 672: 'carbon',\n",
       " 673: 'carcraft',\n",
       " 674: 'card',\n",
       " 675: 'cardiac',\n",
       " 676: 'cardiff',\n",
       " 677: 'cardiology',\n",
       " 678: 'cards',\n",
       " 679: 'care',\n",
       " 680: 'cared',\n",
       " 681: 'career',\n",
       " 682: 'careers',\n",
       " 683: 'carefully',\n",
       " 684: 'carer',\n",
       " 685: 'carers',\n",
       " 686: 'cares',\n",
       " 687: 'caribbean',\n",
       " 688: 'carillion',\n",
       " 689: 'carillon',\n",
       " 690: 'caring',\n",
       " 691: 'carl',\n",
       " 692: 'caroline',\n",
       " 693: 'carpet',\n",
       " 694: 'carpets',\n",
       " 695: 'carried',\n",
       " 696: 'carrier',\n",
       " 697: 'carriers',\n",
       " 698: 'carries',\n",
       " 699: 'carry',\n",
       " 700: 'carrying',\n",
       " 701: 'cars',\n",
       " 702: 'cart',\n",
       " 703: 'case',\n",
       " 704: 'caseload',\n",
       " 705: 'cases',\n",
       " 706: 'casework',\n",
       " 707: 'cash',\n",
       " 708: 'cashflow',\n",
       " 709: 'cashier',\n",
       " 710: 'cashiering',\n",
       " 711: 'castings',\n",
       " 712: 'casual',\n",
       " 713: 'casualty',\n",
       " 714: 'catalyst',\n",
       " 715: 'categories',\n",
       " 716: 'catering',\n",
       " 717: 'caterpillar',\n",
       " 718: 'caters',\n",
       " 719: 'catia',\n",
       " 720: 'ccab',\n",
       " 721: 'ccn',\n",
       " 722: 'cct',\n",
       " 723: 'cctv',\n",
       " 724: 'cduttoncompassltd',\n",
       " 725: 'celebrating',\n",
       " 726: 'celesio',\n",
       " 727: 'cell',\n",
       " 728: 'cells',\n",
       " 729: 'cellular',\n",
       " 730: 'cemap',\n",
       " 731: 'ceng',\n",
       " 732: 'central',\n",
       " 733: 'centrally',\n",
       " 734: 'centre',\n",
       " 735: \"centre's\",\n",
       " 736: 'centred',\n",
       " 737: 'centres',\n",
       " 738: 'century',\n",
       " 739: 'ceo',\n",
       " 740: 'cerebral',\n",
       " 741: 'certificate',\n",
       " 742: 'certificates',\n",
       " 743: 'certification',\n",
       " 744: 'certifications',\n",
       " 745: 'certified',\n",
       " 746: 'certus',\n",
       " 747: 'cfo',\n",
       " 748: 'chain',\n",
       " 749: 'chains',\n",
       " 750: 'chairing',\n",
       " 751: 'challenge',\n",
       " 752: 'challenges',\n",
       " 753: 'challenging',\n",
       " 754: 'champion',\n",
       " 755: 'chance',\n",
       " 756: 'change',\n",
       " 757: 'changed',\n",
       " 758: 'changing',\n",
       " 759: 'channel',\n",
       " 760: 'channels',\n",
       " 761: 'character',\n",
       " 762: 'characteristics',\n",
       " 763: 'charge',\n",
       " 764: 'charged',\n",
       " 765: 'charismatic',\n",
       " 766: 'charitable',\n",
       " 767: 'charities',\n",
       " 768: 'charity',\n",
       " 769: 'chartered',\n",
       " 770: 'charterhouse',\n",
       " 771: 'chartership',\n",
       " 772: 'chase',\n",
       " 773: 'chasemedical',\n",
       " 774: 'chat',\n",
       " 775: 'check',\n",
       " 776: 'checkable',\n",
       " 777: 'checking',\n",
       " 778: 'checks',\n",
       " 779: 'chelmsford',\n",
       " 780: 'cheltenham',\n",
       " 781: 'chemical',\n",
       " 782: 'cheques',\n",
       " 783: 'cheshire',\n",
       " 784: 'chester',\n",
       " 785: 'chesterfield',\n",
       " 786: 'chi',\n",
       " 787: 'chichester',\n",
       " 788: 'chief',\n",
       " 789: 'child',\n",
       " 790: \"child's\",\n",
       " 791: 'childcare',\n",
       " 792: 'children',\n",
       " 793: \"children's\",\n",
       " 794: 'chip',\n",
       " 795: 'choice',\n",
       " 796: 'choices',\n",
       " 797: 'choose',\n",
       " 798: 'chosen',\n",
       " 799: 'chris',\n",
       " 800: 'christmas',\n",
       " 801: 'church',\n",
       " 802: 'chwefror',\n",
       " 803: 'cima',\n",
       " 804: 'cinema',\n",
       " 805: 'circa',\n",
       " 806: 'circuit',\n",
       " 807: 'circuitry',\n",
       " 808: 'circuits',\n",
       " 809: 'circumstances',\n",
       " 810: 'cis',\n",
       " 811: 'cisco',\n",
       " 812: 'citizen',\n",
       " 813: 'citizens',\n",
       " 814: 'city',\n",
       " 815: 'civil',\n",
       " 816: 'civils',\n",
       " 817: 'claims',\n",
       " 818: 'clarity',\n",
       " 819: 'clark',\n",
       " 820: 'class',\n",
       " 821: 'classes',\n",
       " 822: 'classification',\n",
       " 823: 'clean',\n",
       " 824: 'cleaning',\n",
       " 825: 'cleanliness',\n",
       " 826: 'clear',\n",
       " 827: 'clearance',\n",
       " 828: 'cleared',\n",
       " 829: 'clerical',\n",
       " 830: 'clerk',\n",
       " 831: 'click',\n",
       " 832: 'clicking',\n",
       " 833: \"client's\",\n",
       " 834: 'clientfacing',\n",
       " 835: 'climate',\n",
       " 836: 'climb',\n",
       " 837: 'climbing',\n",
       " 838: 'clinic',\n",
       " 839: 'clinical',\n",
       " 840: 'clinically',\n",
       " 841: 'clinicians',\n",
       " 842: 'clinics',\n",
       " 843: 'close',\n",
       " 844: 'closed',\n",
       " 845: 'closely',\n",
       " 846: 'closer',\n",
       " 847: 'closes',\n",
       " 848: 'closing',\n",
       " 849: 'clothing',\n",
       " 850: 'cloud',\n",
       " 851: 'club',\n",
       " 852: 'clustering',\n",
       " 853: 'cmc',\n",
       " 854: 'cmm',\n",
       " 855: \"cmm's\",\n",
       " 856: 'cms',\n",
       " 857: 'cnc',\n",
       " 858: 'coach',\n",
       " 859: 'coaching',\n",
       " 860: 'code',\n",
       " 861: 'coded',\n",
       " 862: 'codes',\n",
       " 863: 'coding',\n",
       " 864: 'coen',\n",
       " 865: 'colchester',\n",
       " 866: 'cold',\n",
       " 867: 'coldcalling',\n",
       " 868: 'collaborating',\n",
       " 869: 'collaboration',\n",
       " 870: 'colleague',\n",
       " 871: 'colleagues',\n",
       " 872: 'collect',\n",
       " 873: 'collected',\n",
       " 874: 'collection',\n",
       " 875: 'collections',\n",
       " 876: 'college',\n",
       " 877: 'colour',\n",
       " 878: 'combat',\n",
       " 879: 'combination',\n",
       " 880: 'combine',\n",
       " 881: 'combined',\n",
       " 882: 'comfort',\n",
       " 883: 'comfortable',\n",
       " 884: 'comforting',\n",
       " 885: 'coming',\n",
       " 886: 'comm',\n",
       " 887: 'command',\n",
       " 888: 'commence',\n",
       " 889: 'commensurate',\n",
       " 890: 'commentary',\n",
       " 891: 'commercial',\n",
       " 892: 'commercially',\n",
       " 893: 'commission',\n",
       " 894: 'commissioning',\n",
       " 895: 'commissions',\n",
       " 896: 'commit',\n",
       " 897: 'commited',\n",
       " 898: 'commitment',\n",
       " 899: 'commitments',\n",
       " 900: 'committed',\n",
       " 901: 'committee',\n",
       " 902: 'commodities',\n",
       " 903: 'commodity',\n",
       " 904: 'common',\n",
       " 905: 'comms',\n",
       " 906: 'communal',\n",
       " 907: 'communicate',\n",
       " 908: 'communicated',\n",
       " 909: 'communicating',\n",
       " 910: 'communication',\n",
       " 911: 'communications',\n",
       " 912: 'communicator',\n",
       " 913: 'community',\n",
       " 914: 'commutable',\n",
       " 915: 'commute',\n",
       " 916: 'companies',\n",
       " 917: 'companionship',\n",
       " 918: \"company's\",\n",
       " 919: 'comparable',\n",
       " 920: 'compass',\n",
       " 921: 'compassionate',\n",
       " 922: 'compatibility',\n",
       " 923: 'compelling',\n",
       " 924: 'compensation',\n",
       " 925: 'competence',\n",
       " 926: 'competencies',\n",
       " 927: 'competency',\n",
       " 928: 'competent',\n",
       " 929: 'competently',\n",
       " 930: 'competition',\n",
       " 931: 'competitive',\n",
       " 932: 'competitor',\n",
       " 933: 'competitors',\n",
       " 934: 'compile',\n",
       " 935: 'compiling',\n",
       " 936: 'complaint',\n",
       " 937: 'complaints',\n",
       " 938: 'complement',\n",
       " 939: 'complete',\n",
       " 940: 'completed',\n",
       " 941: 'completely',\n",
       " 942: 'completeness',\n",
       " 943: 'completing',\n",
       " 944: 'completion',\n",
       " 945: 'complex',\n",
       " 946: 'complexity',\n",
       " 947: 'compliance',\n",
       " 948: 'compliant',\n",
       " 949: 'complied',\n",
       " 950: 'complies',\n",
       " 951: 'comply',\n",
       " 952: 'complying',\n",
       " 953: 'component',\n",
       " 954: 'components',\n",
       " 955: 'composite',\n",
       " 956: 'comprehension',\n",
       " 957: 'comprehensive',\n",
       " 958: 'compressed',\n",
       " 959: 'compressors',\n",
       " 960: 'computational',\n",
       " 961: 'computations',\n",
       " 962: 'computer',\n",
       " 963: 'computerised',\n",
       " 964: 'concentrate',\n",
       " 965: 'concentration',\n",
       " 966: 'concept',\n",
       " 967: 'concepts',\n",
       " 968: 'conceptual',\n",
       " 969: 'concern',\n",
       " 970: 'concerned',\n",
       " 971: 'concerns',\n",
       " 972: 'concise',\n",
       " 973: 'conclusion',\n",
       " 974: 'condition',\n",
       " 975: 'conditioning',\n",
       " 976: 'conditions',\n",
       " 977: 'conduct',\n",
       " 978: 'conducted',\n",
       " 979: 'conducting',\n",
       " 980: 'conduit',\n",
       " 981: 'confederation',\n",
       " 982: 'conference',\n",
       " 983: 'conferences',\n",
       " 984: 'confidence',\n",
       " 985: 'confident',\n",
       " 986: 'confidential',\n",
       " 987: 'confidentiality',\n",
       " 988: 'confidently',\n",
       " 989: 'configuration',\n",
       " 990: 'confirm',\n",
       " 991: 'confirmation',\n",
       " 992: 'confirming',\n",
       " 993: 'conflicting',\n",
       " 994: 'conjunction',\n",
       " 995: 'connection',\n",
       " 996: 'connections',\n",
       " 997: 'connectivity',\n",
       " 998: 'conscious',\n",
       " 999: 'consent',\n",
       " ...}"
      ]
     },
     "execution_count": 20,
     "metadata": {},
     "output_type": "execute_result"
    }
   ],
   "source": [
    "# Dictionary of vocab is generated in the form of index:word for generating the document vectors\n",
    "vocDict = {indx:vocab[indx] for indx in range(len(vocab))}\n",
    "vocDict"
   ]
  },
  {
   "cell_type": "code",
   "execution_count": 21,
   "metadata": {},
   "outputs": [],
   "source": [
    "# Function that maps between the word_index and the actual word to create a dictionary of word:weight\n",
    "def doc_word_weights(data_features,voc_dict):\n",
    "    # List to store word:weight\n",
    "    tfidf_weights = []\n",
    "    \n",
    "    # For each document\n",
    "    for desc_indx in range(0,data_features.shape[0]):\n",
    "        # Append each document into the list as a dictionary of word and its weight\n",
    "        # voc_dict[wrd_indx] gets the actual word from index\n",
    "        # data_features[desc_indx][0,wrd_indx] gets the tfidf word weights for a specific word in a specific document\n",
    "        # We only get words that appeared in the document\n",
    "        tfidf_weights.append({voc_dict[wrd_indx]:data_features[desc_indx][0,wrd_indx] for wrd_indx in data_features[desc_indx].nonzero()[1]})\n",
    "    return tfidf_weights"
   ]
  },
  {
   "cell_type": "code",
   "execution_count": 22,
   "metadata": {},
   "outputs": [],
   "source": [
    "# Function to generate the tfidf weights of word based on the vocab previously generated\n",
    "def generateTfidfVec(vocab,data):\n",
    "    tf_vec = TfidfVectorizer(analyzer='word',vocabulary=vocab)\n",
    "    tfidf_features = tf_vec.fit_transform(data)\n",
    "    print(\"Shape of tfidf-features:\",tfidf_features.shape)\n",
    "    return tfidf_features"
   ]
  },
  {
   "cell_type": "code",
   "execution_count": 23,
   "metadata": {
    "scrolled": true
   },
   "outputs": [
    {
     "name": "stdout",
     "output_type": "stream",
     "text": [
      "Shape of tfidf-features: (776, 5168)\n"
     ]
    }
   ],
   "source": [
    "tfidf_features = generateTfidfVec(vocab,list(job_df['Processed_description'].values))"
   ]
  },
  {
   "cell_type": "markdown",
   "metadata": {},
   "source": [
    "From above, the tf-idf weights of words are successfully generated and is validated that the size of the feature names is the same as the our vocab, which is 5168 words. Let's check out some of them!"
   ]
  },
  {
   "cell_type": "code",
   "execution_count": 24,
   "metadata": {
    "scrolled": true
   },
   "outputs": [
    {
     "name": "stdout",
     "output_type": "stream",
     "text": [
      "Webindex: 68510409\n",
      "--------------------------------------------\n",
      "\n",
      "Full Description: Retentions Advisor Hours  Full time working until 7pm one evening per week to be arranged Salary ****  **** per annum dependant on experience  commission Central Leeds, West Yorkshire This role focuses on the daytoday work associated with processing customer complaints, cancellations and ensuring payments from clients are up to date and are distributed to creditors within the agreed time frame as set by the TSI and ensuring that the quality of the customer experience is in line with agreed service standards and meets internal procedures and controls. Candidate's main priority will be dealing with escalated issues from clients by communicating with them verbally and in writing regarding their complaint/cancellation. You will be expected to liaise and maintain relationships with external agencies such as FOS and Citizens Advice. Essentials skills Minimum 12 months experience dealing with complaint Handling Excellent written and verbal communication skills High level of accuracy Strong organisational skills Strong telephone customer service background both inbound and outbound Qualifications **** GCSE's including Maths & English Excellent computer skills with working knowledge of word and excel \n",
      "\n",
      "Tokens: retentions advisor hours time pm evening week arranged annum dependant commission central leeds west yorkshire focuses daytoday processing customer complaints ensuring payments date distributed creditors agreed time frame set ensuring quality customer line agreed standards meets internal procedures controls main priority dealing escalated issues communicating verbally writing complaint expected liaise maintain relationships external agencies fos citizens advice essentials minimum months dealing complaint handling written verbal communication level accuracy organisational telephone customer background inbound outbound qualifications gcse's maths english computer word excel\n",
      "--------------------------------------------\n",
      "\n",
      "Vector representation:\n",
      "\n",
      "accuracy:0.1054485400786366 advice:0.09044443343751274 advisor:0.1228935648337348 agencies:0.10451633974229843 agreed:0.19769954357890485 annum:0.09814022471466918 arranged:0.15584309496209062 background:0.06738622937320696 central:0.10111511003872922 citizens:0.15584309496209062 commission:0.08628017181180732 communicating:0.1146149897788471 communication:0.05826582694963592 complaint:0.27873665979582546 complaints:0.1228935648337348 computer:0.0961304594854757 controls:0.09311781710525018 creditors:0.14370175993782008 customer:0.17401819237553237 date:0.07871114383170287 daytoday:0.11922970194016315 dealing:0.18088886687502548 dependant:0.11922970194016315 distributed:0.15584309496209062 english:0.10275493687598525 ensuring:0.14178179001626642 escalated:0.15584309496209062 essentials:0.14370175993782008 evening:0.14900544966864776 excel:0.08585948716845009 expected:0.0850398176023481 external:0.0867084367651819 focuses:0.14370175993782008 fos:0.14900544966864776 frame:0.14370175993782008 gcse:0.12496165662436538 handling:0.10111511003872922 hours:0.0631809293571199 inbound:0.12973121012717767 internal:0.07474059201381382 issues:0.08424747550330701 leeds:0.1228935648337348 level:0.06031018627513157 liaise:0.09201212649600957 line:0.0820175855258626 main:0.08628017181180732 maintain:0.07322296627791994 maths:0.1228935648337348 meets:0.11922970194016315 minimum:0.07810167295469814 months:0.0820175855258626 organisational:0.10192088421603561 outbound:0.11922970194016315 payments:0.10743035931771121 pm:0.09044443343751274 priority:0.13936832989791273 procedures:0.0763617699196636 processing:0.09147799026799416 qualifications:0.07249900995028076 quality:0.06270396227719094 relationships:0.07346926964120105 retentions:0.15584309496209062 set:0.0854461191518577 standards:0.07001857465056276 telephone:0.08850310494393414 time:0.11785586553487028 verbal:0.09369056920180524 verbally:0.13936832989791273 week:0.07721580413762733 west:0.09044443343751274 word:0.09678167999882183 writing:0.10959258216942809 written:0.0850398176023481 yorkshire:0.10959258216942809 "
     ]
    }
   ],
   "source": [
    "validator(tfidf_features,vocab,random.randint(0,tfidf_features.shape[0]),job_df)"
   ]
  },
  {
   "cell_type": "markdown",
   "metadata": {},
   "source": [
    "TF-IDF vectors successfully generated! Let's move on to map the tf-idf weights to the words "
   ]
  },
  {
   "cell_type": "code",
   "execution_count": 25,
   "metadata": {},
   "outputs": [],
   "source": [
    "tfidf_weights = doc_word_weights(tfidf_features,vocDict)"
   ]
  },
  {
   "cell_type": "markdown",
   "metadata": {},
   "source": [
    "Now that the tf-idf weights are successfully mapped, let's check out some of the documents"
   ]
  },
  {
   "cell_type": "code",
   "execution_count": 26,
   "metadata": {
    "scrolled": true
   },
   "outputs": [
    {
     "name": "stdout",
     "output_type": "stream",
     "text": [
      "TF-IDF weights of each word for document with index 584\n"
     ]
    },
    {
     "data": {
      "text/plain": [
       "{'winchester': 0.35545375398642004,\n",
       " 'time': 0.07028653973201449,\n",
       " 'tight': 0.1307170134643235,\n",
       " 'technical': 0.1602950017965001,\n",
       " 'subject': 0.10787797850357156,\n",
       " 'specialising': 0.1281380130609587,\n",
       " 'southampton': 0.154737446688868,\n",
       " 'sound': 0.12256138327298954,\n",
       " 'solutions': 0.08509032453700019,\n",
       " 'skilled': 0.12466230395242023,\n",
       " 'senior': 0.079475150275685,\n",
       " 'sectors': 0.10612384448206837,\n",
       " 'sector': 0.08822763316006656,\n",
       " 'relevant': 0.07969750008828187,\n",
       " 'ref': 0.12256138327298954,\n",
       " 'recruiter': 0.16623216184103903,\n",
       " 'rapidly': 0.1281380130609587,\n",
       " 'qualified': 0.07734260722177769,\n",
       " 'projects': 0.1758552722391075,\n",
       " 'progress': 0.10291103792948451,\n",
       " 'professionals': 0.1179034811860806,\n",
       " 'portsmouth': 0.16623216184103903,\n",
       " 'placing': 0.158076531649705,\n",
       " 'ote': 0.09868596036860193,\n",
       " 'number': 0.09500966465122172,\n",
       " 'meet': 0.09351724345674423,\n",
       " 'location': 0.16453174553353825,\n",
       " 'level': 0.14387045683756924,\n",
       " 'keen': 0.1179034811860806,\n",
       " 'junior': 0.11967589928159962,\n",
       " 'intermediate': 0.15175053340939168,\n",
       " 'independent': 0.10669658023977904,\n",
       " 'ideally': 0.07368575081460246,\n",
       " 'handson': 0.158076531649705,\n",
       " 'fareham': 0.16623216184103903,\n",
       " 'expanding': 0.10612384448206837,\n",
       " 'equivalent': 0.09868596036860193,\n",
       " 'engineers': 0.10048653085548989,\n",
       " 'engineering': 0.15187974905291163,\n",
       " 'electrical': 0.10002555393809462,\n",
       " 'education': 0.22079918265006868,\n",
       " 'drive': 0.09868596036860193,\n",
       " 'determination': 0.14431264929592527,\n",
       " 'design': 0.17072322653082048,\n",
       " 'depending': 0.23247077006535238,\n",
       " 'degree': 0.08792763611955375,\n",
       " 'deadlines': 0.1110666681208185,\n",
       " 'construction': 0.12256138327298954,\n",
       " 'communication': 0.06949681023219975,\n",
       " 'building': 0.10291103792948451,\n",
       " 'bonus': 0.0917558412757912,\n",
       " 'basingstoke': 0.16186207395999952,\n",
       " 'background': 0.08037520859458962,\n",
       " 'ad': 0.1307170134643235}"
      ]
     },
     "execution_count": 26,
     "metadata": {},
     "output_type": "execute_result"
    }
   ],
   "source": [
    "doc_num = random.randint(0,tfidf_features.shape[0])\n",
    "print(\"TF-IDF weights of each word for document with index\",doc_num)\n",
    "tfidf_weights[doc_num]"
   ]
  },
  {
   "cell_type": "markdown",
   "metadata": {},
   "source": [
    "Now that is done, we could go on and generate the tf-idf weighted document embeddings now"
   ]
  },
  {
   "cell_type": "code",
   "execution_count": 27,
   "metadata": {},
   "outputs": [],
   "source": [
    "# Function to generate the tf-idf weighted document embeddings\n",
    "def gen_docVecs_weighted(wordVec,desc_tokens,tfidf=[]):\n",
    "    # Empty final dataframe\n",
    "    docVecs = pd.DataFrame()\n",
    "    \n",
    "    # For each document\n",
    "    for indx in range(len(desc_tokens)):\n",
    "        # Get tokens for each document\n",
    "        tokens = list(set(desc_tokens[indx]))\n",
    "        # Get a temporary dataframe\n",
    "        temp = pd.DataFrame()\n",
    "        \n",
    "        # For each token within the document\n",
    "        for tok_indx in range(len(tokens)):\n",
    "            try:\n",
    "                token = tokens[tok_indx]\n",
    "                # Get word embedding if present\n",
    "                word_vec = wordVec[token]\n",
    "                \n",
    "                # Get tf-idf wieght of word if present\n",
    "                weight = float(tfidf[indx][token]) if tfidf != [] else 1\n",
    "                # Append to temporary dataframe\n",
    "                temp = temp.append(pd.Series(word_vec*weight),ignore_index=True)\n",
    "            except:\n",
    "                pass\n",
    "        # Take the sum of each column\n",
    "        doc_vec = temp.sum()\n",
    "        \n",
    "        # Append document value to the dataframe\n",
    "        docVecs = docVecs.append(doc_vec,ignore_index=True)\n",
    "    return docVecs"
   ]
  },
  {
   "cell_type": "code",
   "execution_count": 28,
   "metadata": {},
   "outputs": [],
   "source": [
    "weighted_ftext_dv = gen_docVecs_weighted(modelFT_wv,job_df['Tokens'],tfidf_weights)"
   ]
  },
  {
   "cell_type": "markdown",
   "metadata": {},
   "source": [
    "Now that the weighted document embeddings is generated, it has to be checked so that it contains no null values as well"
   ]
  },
  {
   "cell_type": "code",
   "execution_count": 29,
   "metadata": {},
   "outputs": [
    {
     "data": {
      "text/plain": [
       "0"
      ]
     },
     "execution_count": 29,
     "metadata": {},
     "output_type": "execute_result"
    }
   ],
   "source": [
    "weighted_ftext_dv.isna().any().sum()"
   ]
  },
  {
   "cell_type": "markdown",
   "metadata": {},
   "source": [
    "TF-IDF weighted document embeddings successfully generated! Let's check out the difference between these document embeddings!"
   ]
  },
  {
   "cell_type": "markdown",
   "metadata": {},
   "source": [
    "#### Task 2.3.4 Plot TSNE\n",
    "This task plots the embedding vectors in a 2 dimensional space using TSNE to represent the feature space"
   ]
  },
  {
   "cell_type": "code",
   "execution_count": 30,
   "metadata": {},
   "outputs": [],
   "source": [
    "def plotTSNE(labels,docVecs,ax,weighted):\n",
    "    # Get the targets of job advertisements\n",
    "    targets = sorted(labels.unique())\n",
    "    # Get 30% of the data for representation\n",
    "    size = int(len(docVecs)*0.3)\n",
    "    \n",
    "    # Randomly get the data from the dataset\n",
    "    indices = np.random.choice(range(len(features)),size=size,replace=False)\n",
    "    projected_features = TSNE(n_components=2,random_state=0).fit_transform(docVecs[indices])\n",
    "    # Plot the points\n",
    "    for target in targets:\n",
    "        points = projected_features[(labels[indices]==target)]\n",
    "        ax.scatter(points[:,0],points[:,1],label=target)\n",
    "        if weighted:\n",
    "            ax.set_title(\"Weighted Feature vector\",fontdict=dict(fontsize=15))\n",
    "        else:\n",
    "            ax.set_title(\"Unweighted Feature vector\",fontdict=dict(fontsize=15))\n",
    "    ax.legend()        "
   ]
  },
  {
   "cell_type": "code",
   "execution_count": 31,
   "metadata": {
    "scrolled": true
   },
   "outputs": [
    {
     "name": "stderr",
     "output_type": "stream",
     "text": [
      "C:\\Users\\User\\AppData\\Roaming\\Python\\Python37\\site-packages\\sklearn\\manifold\\_t_sne.py:783: FutureWarning: The default initialization in TSNE will change from 'random' to 'pca' in 1.2.\n",
      "  FutureWarning,\n",
      "C:\\Users\\User\\AppData\\Roaming\\Python\\Python37\\site-packages\\sklearn\\manifold\\_t_sne.py:793: FutureWarning: The default learning rate in TSNE will change from 200.0 to 'auto' in 1.2.\n",
      "  FutureWarning,\n",
      "C:\\Users\\User\\AppData\\Roaming\\Python\\Python37\\site-packages\\sklearn\\manifold\\_t_sne.py:783: FutureWarning: The default initialization in TSNE will change from 'random' to 'pca' in 1.2.\n",
      "  FutureWarning,\n",
      "C:\\Users\\User\\AppData\\Roaming\\Python\\Python37\\site-packages\\sklearn\\manifold\\_t_sne.py:793: FutureWarning: The default learning rate in TSNE will change from 200.0 to 'auto' in 1.2.\n",
      "  FutureWarning,\n"
     ]
    },
    {
     "data": {
      "image/png": "[encoded data removed]",
      "text/plain": [
       "<Figure size 576x432 with 2 Axes>"
      ]
     },
     "metadata": {
      "needs_background": "light"
     },
     "output_type": "display_data"
    }
   ],
   "source": [
    "fig, (ax1,ax2) = plt.subplots(1,2,figsize=(8,6))\n",
    "# Plot unweighted document embeddings\n",
    "features = ftext_dv.to_numpy()\n",
    "plotTSNE(job_df['Target'],features,ax1,False)\n",
    "\n",
    "# Plot tf-idf weighted document embeddings\n",
    "features = weighted_ftext_dv.to_numpy()\n",
    "plotTSNE(job_df['Target'],features,ax2,True)"
   ]
  },
  {
   "cell_type": "markdown",
   "metadata": {},
   "source": [
    "From there, all feature representations are successfully generated! It is time to save the count vector representation into a text file"
   ]
  },
  {
   "cell_type": "markdown",
   "metadata": {},
   "source": [
    "### Saving outputs\n",
    "Save the count vector representation as per spectification.\n",
    "- count_vectors.txt"
   ]
  },
  {
   "cell_type": "code",
   "execution_count": 32,
   "metadata": {},
   "outputs": [],
   "source": [
    "# Save the count vector representation of job advertisement descriptions\n",
    "with open('count_vectors.txt','w') as f:\n",
    "    # For each document\n",
    "    for desc_indx in range(count_features.shape[0]):\n",
    "        # Get the webindex of the job\n",
    "        count = '#' + str(job_df['Webindex'][desc_indx])\n",
    "        # For each word that appears\n",
    "        for ftr_indx in count_features[desc_indx].nonzero()[1]:\n",
    "            count += ','\n",
    "            value = count_features[desc_indx][0,ftr_indx]\n",
    "            count += \"{}:{}\".format(ftr_indx,value)\n",
    "        f.write(count+'\\n')\n",
    "    f.close()"
   ]
  },
  {
   "cell_type": "markdown",
   "metadata": {},
   "source": [
    "## Task 3. Job Advertisement Classification"
   ]
  },
  {
   "cell_type": "markdown",
   "metadata": {},
   "source": [
    "In this task, Logistic Regression model is used to classify the category of a job advertisement from the 3 different vector representations generated in Task 2. A 5-fold cross validation is used to get the performance of each model. The vector representation that provides the best model performance would then be used for different experimentation to determine whether more information equals higher accuracy."
   ]
  },
  {
   "cell_type": "markdown",
   "metadata": {},
   "source": [
    "#### Task 3.1 Q1: Language Model Comparison\n",
    "The model used in this project would be the logistic regression model. The labels for each job advertisement used would be the labels stored in job_df."
   ]
  },
  {
   "cell_type": "code",
   "execution_count": 33,
   "metadata": {},
   "outputs": [],
   "source": [
    "# Function for generating classification model evaluate model\n",
    "# Set the seed to be 0 to have the same train test split across all classification\n",
    "seed = 0\n",
    "def classification(features):\n",
    "    # Perform train and test split for the data given and set the category as job_df['Target']\n",
    "    X_train, X_test, y_train, y_test,train_indices,test_indices = train_test_split(features, job_df['Target'], list(range(0,len(job_df))),test_size=0.33, random_state=seed)\n",
    "    \n",
    "    # Initialize the model\n",
    "    model = LogisticRegression(max_iter=3000,random_state=seed)\n",
    "    # Fit the data\n",
    "    model.fit(X_train, y_train)\n",
    "    # Get the score\n",
    "    model.score(X_test, y_test)\n",
    "    \n",
    "    # Perform 5-fold Cross validation\n",
    "    cv = KFold(n_splits=5, random_state=1, shuffle=True)\n",
    "    scores = cross_val_score(model,X_test,y_test,cv=cv)\n",
    "    # Get accuracy as well as the standard deviation\n",
    "    print('Accuracy: Mean: %.3f STD: (%.3f)' % (mean(scores), std(scores)))"
   ]
  },
  {
   "cell_type": "markdown",
   "metadata": {},
   "source": [
    "#### Task 3.1.1 Model performance using unweighted document embeddings"
   ]
  },
  {
   "cell_type": "code",
   "execution_count": 34,
   "metadata": {
    "scrolled": true
   },
   "outputs": [
    {
     "name": "stdout",
     "output_type": "stream",
     "text": [
      "Accuracy: Mean: 0.759 STD: (0.064)\n"
     ]
    }
   ],
   "source": [
    "classification(ftext_dv)"
   ]
  },
  {
   "cell_type": "markdown",
   "metadata": {},
   "source": [
    "#### Task 3.1.2 Model performance using weighted document embeddings"
   ]
  },
  {
   "cell_type": "code",
   "execution_count": 35,
   "metadata": {
    "scrolled": false
   },
   "outputs": [
    {
     "name": "stdout",
     "output_type": "stream",
     "text": [
      "Accuracy: Mean: 0.622 STD: (0.049)\n"
     ]
    }
   ],
   "source": [
    "classification(weighted_ftext_dv)"
   ]
  },
  {
   "cell_type": "markdown",
   "metadata": {},
   "source": [
    "#### Task 3.1.3 Model performance using Count vector representation"
   ]
  },
  {
   "cell_type": "code",
   "execution_count": 36,
   "metadata": {},
   "outputs": [
    {
     "name": "stdout",
     "output_type": "stream",
     "text": [
      "Accuracy: Mean: 0.852 STD: (0.020)\n"
     ]
    }
   ],
   "source": [
    "# Classification using count vectors\n",
    "classification(count_features)"
   ]
  },
  {
   "cell_type": "markdown",
   "metadata": {},
   "source": [
    "It seems like among all models, classifying jobs using count vectors returned the best results!"
   ]
  },
  {
   "cell_type": "markdown",
   "metadata": {},
   "source": [
    "#### Task 3.2 Q2: Does more information provide higher accuracy?\n",
    "Since that in the previous question, using count vectors provided the best results, count vectors would be used for subsequent experiments with titles as well"
   ]
  },
  {
   "cell_type": "markdown",
   "metadata": {},
   "source": [
    "#### Task 3.2.1 Classification using only the titles\n",
    "Since the titles has not been pre-processed, pre-processing steps done on the job descriptions would be applied to titles as well. Pre-processing function would be copied from Task 1 and used."
   ]
  },
  {
   "cell_type": "code",
   "execution_count": 37,
   "metadata": {},
   "outputs": [
    {
     "name": "stdout",
     "output_type": "stream",
     "text": [
      "Number of stopwords: 571\n",
      "First 10 stopwords: ['besides', 'see', \"i've\", 'alone', 'hereafter', 'upon', 'go', 'instead', 'hers', 'first']\n"
     ]
    }
   ],
   "source": [
    "# Step 5. Remove stopwords from stopwords_en.txt\n",
    "with open('stopwords_en.txt','r') as f:\n",
    "    stopwords = f.read().split()\n",
    "print(\"Number of stopwords:\",len(stopwords))\n",
    "print(\"First 10 stopwords:\",random.sample(stopwords,10))"
   ]
  },
  {
   "cell_type": "code",
   "execution_count": 38,
   "metadata": {},
   "outputs": [],
   "source": [
    "# Tokenization based on set pattern\n",
    "pattern = r\"[a-zA-Z]+(?:[-'][a-zA-Z]+)?\"\n",
    "def tokenizeDesc(raw_desc):\n",
    "    # Step 3. Convert to lower case\n",
    "    desc = raw_desc.lower()\n",
    "\n",
    "    # Sentence Segmentation\n",
    "    # Transform 'Hello World. Bye World.'\n",
    "    #             to\n",
    "    # ['Hello World., Bye World.']\n",
    "    sentences = sent_tokenize(desc)\n",
    "    \n",
    "    # Step 2. Tokenize each sentence into tokens\n",
    "    # Transform ['Hello World., Bye World.']\n",
    "    #                to\n",
    "    # [['Hello','World'],['Bye','World']]\n",
    "    tokenizer = RegexpTokenizer(pattern)\n",
    "    list_tokens = [tokenizer.tokenize(sentence) for sentence in sentences]\n",
    "    \n",
    "    # Flatten the list of lists into a single list\n",
    "    # Transform [['Hello','World'],['Bye','World']]\n",
    "    #                to\n",
    "    # ['Hello','World','Bye','World']\n",
    "    tokenised_desc = list(chain.from_iterable(list_tokens))\n",
    "#     print(tokenised_desc)\n",
    "    return tokenised_desc\n",
    "\n",
    "# Step 9. Build vocabulary\n",
    "def generateVocab(descriptions):\n",
    "    # Get all tokens of all descriptions as a list of tokens\n",
    "    all_tokens = list(chain.from_iterable(descriptions))\n",
    "    # Generate a unigram from the tokens\n",
    "    unigrams = ngrams(all_tokens,n=1)\n",
    "    freq_unigram = FreqDist(unigrams)\n",
    "\n",
    "    # print(freq_unigram.items())\n",
    "    sorted_keys = sorted(freq_unigram.keys())\n",
    "    keys = [key[0] for key in sorted_keys]\n",
    "    print(keys[:10])\n",
    "    print(\"Number of tokens:\",len(keys))\n",
    "    \n",
    "    return keys"
   ]
  },
  {
   "cell_type": "code",
   "execution_count": 39,
   "metadata": {
    "scrolled": true
   },
   "outputs": [],
   "source": [
    "# 1.1 Extract titlle\n",
    "titles = job_df['Title'].copy()\n",
    "\n",
    "# 1.2 & 1.3 Tokenization & Lower case\n",
    "titles = [tokenizeDesc(title) for title in titles]\n",
    "\n",
    "# 1.4 Remove words of length less than 2 \n",
    "titles = [[token for token in title if len(token)>=2] for title in titles]\n",
    "\n",
    "# 1.5 Remove words appear in stopwords\n",
    "titles = [[token for token in title if token not in stopwords] for title in titles]\n",
    "\n",
    "# 1.6 Remove words appearing only once\n",
    "all_tokens = list(chain.from_iterable(titles))\n",
    "term_freq = FreqDist(all_tokens)\n",
    "words_appear_once = set(term_freq.hapaxes())\n",
    "titles = [[token for token in title if token not in words_appear_once] for title in titles]\n",
    "\n",
    "# 1.7 Removing 50 most common words\n",
    "unique_tokens = list(chain.from_iterable([set(title) for title in titles]))\n",
    "doc_freq = FreqDist(unique_tokens)\n",
    "doc_freq_words = [item[0] for item in doc_freq.most_common(50)]\n",
    "titles = [[token for token in title if token not in doc_freq_words] for title in titles]\n",
    "\n",
    "# Flatten the list of lists into a single list\n",
    "titles = [\" \".join(token) for token in titles]"
   ]
  },
  {
   "cell_type": "markdown",
   "metadata": {},
   "source": [
    "Now that all titles are pre-processed, let's check out some of them"
   ]
  },
  {
   "cell_type": "code",
   "execution_count": 40,
   "metadata": {},
   "outputs": [
    {
     "data": {
      "text/plain": [
       "['construction products surrey',\n",
       " 'fitter',\n",
       " 'mortgage services uk leading estate',\n",
       " '',\n",
       " '',\n",
       " 'theatre',\n",
       " 'cnc programmer supervisor',\n",
       " '',\n",
       " 'data',\n",
       " 'insurance']"
      ]
     },
     "execution_count": 40,
     "metadata": {},
     "output_type": "execute_result"
    }
   ],
   "source": [
    "random.sample(titles,10)"
   ]
  },
  {
   "cell_type": "markdown",
   "metadata": {},
   "source": [
    "It seems like some of the titles turn empty after some pre-processing! Thus, some of the pre-processing steps would be removed to keep some of the words. The pre-processing steps removed would be the last few steps, where we skip removing words that only appears once as well as most frequent words."
   ]
  },
  {
   "cell_type": "code",
   "execution_count": 41,
   "metadata": {},
   "outputs": [],
   "source": [
    "# 1.1 Extract titlle\n",
    "titles = job_df['Title'].copy()\n",
    "\n",
    "# 1.2 & 1.3 Tokenization & Lower case\n",
    "titles = [tokenizeDesc(title) for title in titles]\n",
    "\n",
    "# 1.4 Remove words of length less than 2 \n",
    "titles = [[token for token in title if len(token)>=2] for title in titles]\n",
    "\n",
    "# 1.5 Remove words appear in stopwords\n",
    "titles = [[token for token in title if token not in stopwords] for title in titles]\n",
    "\n",
    "# Skip 1.6 & 1.7\n",
    "# titles = [\" \".join(token) for token in titles]"
   ]
  },
  {
   "cell_type": "code",
   "execution_count": 42,
   "metadata": {},
   "outputs": [
    {
     "name": "stdout",
     "output_type": "stream",
     "text": [
      "Titles with no words: []\n"
     ]
    }
   ],
   "source": [
    "print(\"Titles with no words:\",[(indx,titles[indx]) for indx in range(len(titles)) if len(titles[indx])<1])"
   ]
  },
  {
   "cell_type": "markdown",
   "metadata": {},
   "source": [
    "It seems like all titles have at least 1 word now! Let's use these data instead for classification!"
   ]
  },
  {
   "cell_type": "code",
   "execution_count": 43,
   "metadata": {
    "scrolled": true
   },
   "outputs": [
    {
     "name": "stdout",
     "output_type": "stream",
     "text": [
      "['abbey', 'aberdeen', 'abi', 'accepted', 'accounant', 'account', 'accountancy', 'accountant', 'accounting', 'accounts']\n",
      "Number of tokens: 954\n"
     ]
    }
   ],
   "source": [
    "# New vocabulary has to be generated for creating the count vector representation\n",
    "title_vocab = generateVocab(titles)"
   ]
  },
  {
   "cell_type": "markdown",
   "metadata": {},
   "source": [
    "From above it can be seen that the vocabulary size of titles is 954, much less than that of job descriptions (5168)!"
   ]
  },
  {
   "cell_type": "code",
   "execution_count": 44,
   "metadata": {},
   "outputs": [
    {
     "name": "stdout",
     "output_type": "stream",
     "text": [
      "Shape of document-by-word matrix: (776, 954)\n",
      "Lenght of vocab is same as the length of feature names?: True\n"
     ]
    },
    {
     "name": "stderr",
     "output_type": "stream",
     "text": [
      "C:\\Users\\User\\AppData\\Roaming\\Python\\Python37\\site-packages\\sklearn\\utils\\deprecation.py:87: FutureWarning: Function get_feature_names is deprecated; get_feature_names is deprecated in 1.0 and will be removed in 1.2. Please use get_feature_names_out instead.\n",
      "  warnings.warn(msg, category=FutureWarning)\n"
     ]
    }
   ],
   "source": [
    "flat_titles = [\" \".join(token) for token in titles]\n",
    "title_countVectorizer = CountVectorizer(analyzer='word',vocabulary = set(title_vocab))\n",
    "title_count_features = title_countVectorizer.fit_transform(flat_titles)\n",
    "\n",
    "print(\"Shape of document-by-word matrix:\",title_count_features.shape)\n",
    "feature_names = title_countVectorizer.get_feature_names()\n",
    "print(\"Lenght of vocab is same as the length of feature names?:\",title_vocab == feature_names)"
   ]
  },
  {
   "cell_type": "markdown",
   "metadata": {},
   "source": [
    "Now that the count vector representation is successfully generated, it is time to evaluate the model's performance using this data"
   ]
  },
  {
   "cell_type": "code",
   "execution_count": 45,
   "metadata": {
    "scrolled": true
   },
   "outputs": [
    {
     "name": "stdout",
     "output_type": "stream",
     "text": [
      "Accuracy: Mean: 0.767 STD: (0.055)\n"
     ]
    }
   ],
   "source": [
    "classification(title_count_features)"
   ]
  },
  {
   "cell_type": "markdown",
   "metadata": {},
   "source": [
    "It seems like the model's performance with using only titles is not bad, but it is still not as good as using job descriptions!"
   ]
  },
  {
   "cell_type": "markdown",
   "metadata": {},
   "source": [
    "#### Task 3.2.2 Classification using only the description\n",
    "Since in the previous question the model performance of using job descriptions is already done, no new classification would be done here."
   ]
  },
  {
   "cell_type": "code",
   "execution_count": 46,
   "metadata": {},
   "outputs": [
    {
     "name": "stdout",
     "output_type": "stream",
     "text": [
      "Accuracy: Mean: 0.852 STD: (0.020)\n"
     ]
    }
   ],
   "source": [
    "classification(count_features)"
   ]
  },
  {
   "cell_type": "markdown",
   "metadata": {},
   "source": [
    "#### Task 3.2.3 Classification using a combination of titles and descriptions\n",
    "Now, it's time to evaluate the model performance when both the titles and description of each job advertisement is used! The data would be generated through concantenating the pre-processed titles and the pre-processed descriptions for each job advertisement."
   ]
  },
  {
   "cell_type": "code",
   "execution_count": 47,
   "metadata": {},
   "outputs": [
    {
     "name": "stdout",
     "output_type": "stream",
     "text": [
      "['aap', 'aaron', 'aat', 'abb', 'abbey', 'abenefit', 'aberdeen', 'abi', 'abilities', 'abreast']\n",
      "Number of tokens: 5327\n"
     ]
    }
   ],
   "source": [
    "# Concatenate pre-processed titles and descriptions\n",
    "title_description = [titles[indx] + job_df['Tokens'][indx] for indx in range(job_df.shape[0])]\n",
    "\n",
    "# Generate the new vocabulary\n",
    "joined_vocab = generateVocab(title_description)\n",
    "title_description = [\" \".join(token) for token in title_description]"
   ]
  },
  {
   "cell_type": "markdown",
   "metadata": {},
   "source": [
    "From above, it can be seen that the number of vocab has increased by 159 words. (5168 to 5327)"
   ]
  },
  {
   "cell_type": "code",
   "execution_count": 48,
   "metadata": {},
   "outputs": [
    {
     "name": "stdout",
     "output_type": "stream",
     "text": [
      "Shape of document-by-word matrix: (776, 5327)\n",
      "Lenght of vocab is same as the length of feature names?: True\n"
     ]
    },
    {
     "name": "stderr",
     "output_type": "stream",
     "text": [
      "C:\\Users\\User\\AppData\\Roaming\\Python\\Python37\\site-packages\\sklearn\\utils\\deprecation.py:87: FutureWarning: Function get_feature_names is deprecated; get_feature_names is deprecated in 1.0 and will be removed in 1.2. Please use get_feature_names_out instead.\n",
      "  warnings.warn(msg, category=FutureWarning)\n"
     ]
    }
   ],
   "source": [
    "joined_countVectorizer = CountVectorizer(analyzer='word',vocabulary = set(joined_vocab))\n",
    "joined_count_features = joined_countVectorizer.fit_transform(title_description)\n",
    "\n",
    "print(\"Shape of document-by-word matrix:\",joined_count_features.shape)\n",
    "feature_names = joined_countVectorizer.get_feature_names()\n",
    "print(\"Lenght of vocab is same as the length of feature names?:\",joined_vocab == feature_names)"
   ]
  },
  {
   "cell_type": "code",
   "execution_count": 49,
   "metadata": {},
   "outputs": [
    {
     "name": "stdout",
     "output_type": "stream",
     "text": [
      "Accuracy: Mean: 0.864 STD: (0.027)\n"
     ]
    }
   ],
   "source": [
    "classification(joined_count_features)"
   ]
  },
  {
   "cell_type": "markdown",
   "metadata": {},
   "source": [
    "It seems like after adding pre-processed titles into the corpus, the accuracy of the model increased! Which answers the question, more information in this dataset does provide a higher accuracy."
   ]
  },
  {
   "cell_type": "markdown",
   "metadata": {},
   "source": [
    "## Summary\n",
    "This assessment allows me to know that there are different ways to represent text documents and complex representations does not necessarily mean you will get a higher classification accuracy."
   ]
  }
 ],
 "metadata": {
  "kernelspec": {
   "display_name": "Python 3 (ipykernel)",
   "language": "python",
   "name": "python3"
  },
  "language_info": {
   "codemirror_mode": {
    "name": "ipython",
    "version": 3
   },
   "file_extension": ".py",
   "mimetype": "text/x-python",
   "name": "python",
   "nbconvert_exporter": "python",
   "pygments_lexer": "ipython3",
   "version": "3.7.13"
  }
 },
 "nbformat": 4,
 "nbformat_minor": 1
}
