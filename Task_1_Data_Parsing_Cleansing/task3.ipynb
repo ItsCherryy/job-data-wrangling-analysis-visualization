{
 "cells": [
  {
   "cell_type": "markdown",
   "metadata": {},
   "source": [
    "# Assignment 1: Data Parsing, Cleansing and Integration\n",
    "## Task 3\n",
    "#### Student Name: Toh Kah Hie\n",
    "#### Student ID: s3936897\n",
    "\n",
    "Date: 26 August 2022\n",
    "\n",
    "Version: 1.0\n",
    "\n",
    "Environment: Python 3 and Jupyter notebook\n",
    "\n",
    "Libraries used:\n",
    "* pandas\n",
    "* random\n",
    "\n",
    "\n",
    "## Introduction\n",
    "The problems encountered in the integration inlcudes schema conflicts, lack of column attributes, different data formats, and duplications. \n",
    "\n",
    "Before merging the both dataset, a global schema is established from the first dataset and the datas, column names, missing columns from second dataset is cleaned and fixed accordingly.\n",
    "\n",
    "After the second dataset follows the same schema as the first dataset's, 2 datasets are merged together. The merged dataset will then be checked for duplicates. After duplicates are removed, a global key that uniquely identifying each job advertisement is generated. In this case, is a combination of the Title, Location, Company, ContractType and ContractTime."
   ]
  },
  {
   "cell_type": "markdown",
   "metadata": {},
   "source": [
    "##  Import libraries "
   ]
  },
  {
   "cell_type": "code",
   "execution_count": 1,
   "metadata": {},
   "outputs": [],
   "source": [
    "import pandas as pd\n",
    "from random import randint"
   ]
  },
  {
   "cell_type": "markdown",
   "metadata": {},
   "source": [
    "### 1. Examining and loading data\n",
    "The structure and schema of the csv 's3936897_dataset2.csv' is examined and mapped accordingly to match the global schema, which is:\n",
    "<ul>\n",
    "    <li>Id : Integer (8 digit) - not present in Dataset 2</li>\n",
    "    <li>TItle: Strings (Null values as 'non-specified') - Job Title in Dataset 2</li>\n",
    "    <li>Location: String (Null values as 'non-specified')</li>\n",
    "    <li>Company: String (Null values as 'non-specified') - Organisation in Dataset 2</li>\n",
    "    <li>ContractType: String ['full_time','part_time','non-specified'] - Full-Time Equivalent (FTE) in Dataset 2</li>\n",
    "    <li>ContractTime: String  ['permanent','contract','non-specified'] - Type in Dataset 2</li>\n",
    "    <li>Category: String ['IT Jobs','Healthcare & Nursing Jobs','Engineering Jobs','Accounting & FInance Jobs','Sales Jobs','Hospitality & Catering Jobs','Teaching Jobs','PR,Advertising & Marketing Jobs']</li>\n",
    "    <li>Salary: Float (No null values allowed, 2 decimal places) - Monthly Payment in Dataset 2</li>\n",
    "    <li>OpenDate: Datetime (YYYY-MM-DD HH:MM:SS) - Opening in Dataset 2</li>\n",
    "    <li>CloseDate: Datetime (YYYY-MM-DD HH:MM:SS) - Closing in Dataset 2</li>\n",
    "    <li>SourceName: String (Null values should be 'non-specified') - not present in Dataset 2</li>\n",
    "</ul>"
   ]
  },
  {
   "cell_type": "code",
   "execution_count": 2,
   "metadata": {
    "scrolled": true
   },
   "outputs": [
    {
     "data": {
      "text/html": [
       "<div>\n",
       "<style scoped>\n",
       "    .dataframe tbody tr th:only-of-type {\n",
       "        vertical-align: middle;\n",
       "    }\n",
       "\n",
       "    .dataframe tbody tr th {\n",
       "        vertical-align: top;\n",
       "    }\n",
       "\n",
       "    .dataframe thead th {\n",
       "        text-align: right;\n",
       "    }\n",
       "</style>\n",
       "<table border=\"1\" class=\"dataframe\">\n",
       "  <thead>\n",
       "    <tr style=\"text-align: right;\">\n",
       "      <th></th>\n",
       "      <th>Id</th>\n",
       "      <th>Title</th>\n",
       "      <th>Location</th>\n",
       "      <th>Company</th>\n",
       "      <th>ContractType</th>\n",
       "      <th>ContractTime</th>\n",
       "      <th>Category</th>\n",
       "      <th>Salary</th>\n",
       "      <th>OpenDate</th>\n",
       "      <th>CloseDate</th>\n",
       "      <th>SourceName</th>\n",
       "    </tr>\n",
       "  </thead>\n",
       "  <tbody>\n",
       "    <tr>\n",
       "      <th>0</th>\n",
       "      <td>70077187</td>\n",
       "      <td>Pts Electrician</td>\n",
       "      <td>Plymouth</td>\n",
       "      <td>Resourcing Solutions</td>\n",
       "      <td>non-specified</td>\n",
       "      <td>contract</td>\n",
       "      <td>Engineering Jobs</td>\n",
       "      <td>14400.0</td>\n",
       "      <td>2012-10-15 00:00:00</td>\n",
       "      <td>2012-12-14 00:00:00</td>\n",
       "      <td>rengineeringjobs.com</td>\n",
       "    </tr>\n",
       "    <tr>\n",
       "      <th>1</th>\n",
       "      <td>67945005</td>\n",
       "      <td>Technical Support Engineer  French Speaking</td>\n",
       "      <td>Southampton</td>\n",
       "      <td>Orleston Associates Ltd</td>\n",
       "      <td>non-specified</td>\n",
       "      <td>non-specified</td>\n",
       "      <td>Engineering Jobs</td>\n",
       "      <td>24500.0</td>\n",
       "      <td>2012-06-24 00:00:00</td>\n",
       "      <td>2012-07-24 00:00:00</td>\n",
       "      <td>rengineeringjobs.com</td>\n",
       "    </tr>\n",
       "    <tr>\n",
       "      <th>2</th>\n",
       "      <td>71196024</td>\n",
       "      <td>Training Administrator  Rotherham</td>\n",
       "      <td>Rotherham</td>\n",
       "      <td>Randstad</td>\n",
       "      <td>non-specified</td>\n",
       "      <td>permanent</td>\n",
       "      <td>Engineering Jobs</td>\n",
       "      <td>17250.0</td>\n",
       "      <td>2012-05-10 00:00:00</td>\n",
       "      <td>2012-08-08 00:00:00</td>\n",
       "      <td>rengineeringjobs.com</td>\n",
       "    </tr>\n",
       "    <tr>\n",
       "      <th>3</th>\n",
       "      <td>72459197</td>\n",
       "      <td>Engineering Services Manager  West London</td>\n",
       "      <td>West London</td>\n",
       "      <td>Randstad</td>\n",
       "      <td>non-specified</td>\n",
       "      <td>permanent</td>\n",
       "      <td>Engineering Jobs</td>\n",
       "      <td>46500.0</td>\n",
       "      <td>2012-07-05 12:00:00</td>\n",
       "      <td>2012-10-03 12:00:00</td>\n",
       "      <td>rengineeringjobs.com</td>\n",
       "    </tr>\n",
       "    <tr>\n",
       "      <th>4</th>\n",
       "      <td>71684849</td>\n",
       "      <td>Electrical Estimator  Dartford, Kent</td>\n",
       "      <td>Dartford</td>\n",
       "      <td>Randstad</td>\n",
       "      <td>non-specified</td>\n",
       "      <td>permanent</td>\n",
       "      <td>Engineering Jobs</td>\n",
       "      <td>45000.0</td>\n",
       "      <td>2012-03-20 15:00:00</td>\n",
       "      <td>2012-05-19 15:00:00</td>\n",
       "      <td>rengineeringjobs.com</td>\n",
       "    </tr>\n",
       "  </tbody>\n",
       "</table>\n",
       "</div>"
      ],
      "text/plain": [
       "         Id                                        Title     Location  \\\n",
       "0  70077187                              Pts Electrician     Plymouth   \n",
       "1  67945005  Technical Support Engineer  French Speaking  Southampton   \n",
       "2  71196024            Training Administrator  Rotherham    Rotherham   \n",
       "3  72459197    Engineering Services Manager  West London  West London   \n",
       "4  71684849         Electrical Estimator  Dartford, Kent     Dartford   \n",
       "\n",
       "                   Company   ContractType   ContractTime          Category  \\\n",
       "0     Resourcing Solutions  non-specified       contract  Engineering Jobs   \n",
       "1  Orleston Associates Ltd  non-specified  non-specified  Engineering Jobs   \n",
       "2                 Randstad  non-specified      permanent  Engineering Jobs   \n",
       "3                 Randstad  non-specified      permanent  Engineering Jobs   \n",
       "4                 Randstad  non-specified      permanent  Engineering Jobs   \n",
       "\n",
       "    Salary             OpenDate            CloseDate            SourceName  \n",
       "0  14400.0  2012-10-15 00:00:00  2012-12-14 00:00:00  rengineeringjobs.com  \n",
       "1  24500.0  2012-06-24 00:00:00  2012-07-24 00:00:00  rengineeringjobs.com  \n",
       "2  17250.0  2012-05-10 00:00:00  2012-08-08 00:00:00  rengineeringjobs.com  \n",
       "3  46500.0  2012-07-05 12:00:00  2012-10-03 12:00:00  rengineeringjobs.com  \n",
       "4  45000.0  2012-03-20 15:00:00  2012-05-19 15:00:00  rengineeringjobs.com  "
      ]
     },
     "execution_count": 2,
     "metadata": {},
     "output_type": "execute_result"
    }
   ],
   "source": [
    "# Read csv files and convert them into datasets\n",
    "df1 = pd.read_csv('s3936897_dataset1_solution.csv')\n",
    "df2 = pd.read_csv('s3936897_dataset2.csv')\n",
    "df1.head()"
   ]
  },
  {
   "cell_type": "code",
   "execution_count": 3,
   "metadata": {
    "scrolled": false
   },
   "outputs": [
    {
     "data": {
      "text/html": [
       "<div>\n",
       "<style scoped>\n",
       "    .dataframe tbody tr th:only-of-type {\n",
       "        vertical-align: middle;\n",
       "    }\n",
       "\n",
       "    .dataframe tbody tr th {\n",
       "        vertical-align: top;\n",
       "    }\n",
       "\n",
       "    .dataframe thead th {\n",
       "        text-align: right;\n",
       "    }\n",
       "</style>\n",
       "<table border=\"1\" class=\"dataframe\">\n",
       "  <thead>\n",
       "    <tr style=\"text-align: right;\">\n",
       "      <th></th>\n",
       "      <th>Location</th>\n",
       "      <th>Job Title</th>\n",
       "      <th>Monthly Payment</th>\n",
       "      <th>Closing</th>\n",
       "      <th>Category</th>\n",
       "      <th>Type</th>\n",
       "      <th>Opening</th>\n",
       "      <th>Organisation</th>\n",
       "      <th>Full-Time Equivalent (FTE)</th>\n",
       "    </tr>\n",
       "  </thead>\n",
       "  <tbody>\n",
       "    <tr>\n",
       "      <th>0</th>\n",
       "      <td>Berkshire</td>\n",
       "      <td>Lead CRA UK</td>\n",
       "      <td>4583.33</td>\n",
       "      <td>2012-03-08 12:00:00</td>\n",
       "      <td>Health</td>\n",
       "      <td>NaN</td>\n",
       "      <td>2012-01-08 12:00:00</td>\n",
       "      <td>SEC Recruitment</td>\n",
       "      <td>1.0</td>\n",
       "    </tr>\n",
       "    <tr>\n",
       "      <th>1</th>\n",
       "      <td>Bristol</td>\n",
       "      <td>Possession Manager</td>\n",
       "      <td>2812.50</td>\n",
       "      <td>2013-09-06 12:00:00</td>\n",
       "      <td>Engineering</td>\n",
       "      <td>Permanent</td>\n",
       "      <td>2013-08-07 12:00:00</td>\n",
       "      <td>Navartis Limited</td>\n",
       "      <td>1.0</td>\n",
       "    </tr>\n",
       "    <tr>\n",
       "      <th>2</th>\n",
       "      <td>Coventry</td>\n",
       "      <td>NVQ Assessor Banking/Financial Services Salary...</td>\n",
       "      <td>1791.67</td>\n",
       "      <td>2013-05-02 00:00:00</td>\n",
       "      <td>Hospitality</td>\n",
       "      <td>Permanent</td>\n",
       "      <td>2013-02-01 00:00:00</td>\n",
       "      <td>Pertemps</td>\n",
       "      <td>1.0</td>\n",
       "    </tr>\n",
       "    <tr>\n",
       "      <th>3</th>\n",
       "      <td>Poole</td>\n",
       "      <td>HEAD OF CARE (RGN/RMN)  Poole</td>\n",
       "      <td>2916.67</td>\n",
       "      <td>2013-09-24 15:00:00</td>\n",
       "      <td>Health</td>\n",
       "      <td>NaN</td>\n",
       "      <td>2013-07-26 15:00:00</td>\n",
       "      <td>Team 24 Ltd</td>\n",
       "      <td>1.0</td>\n",
       "    </tr>\n",
       "    <tr>\n",
       "      <th>4</th>\n",
       "      <td>Woking</td>\n",
       "      <td>SQL Server DBA</td>\n",
       "      <td>3125.00</td>\n",
       "      <td>2012-12-21 12:00:00</td>\n",
       "      <td>Information Technology</td>\n",
       "      <td>NaN</td>\n",
       "      <td>2012-11-21 12:00:00</td>\n",
       "      <td>Matchtech</td>\n",
       "      <td>1.0</td>\n",
       "    </tr>\n",
       "  </tbody>\n",
       "</table>\n",
       "</div>"
      ],
      "text/plain": [
       "    Location                                          Job Title  \\\n",
       "0  Berkshire                                        Lead CRA UK   \n",
       "1    Bristol                                 Possession Manager   \n",
       "2   Coventry  NVQ Assessor Banking/Financial Services Salary...   \n",
       "3      Poole                      HEAD OF CARE (RGN/RMN)  Poole   \n",
       "4     Woking                                     SQL Server DBA   \n",
       "\n",
       "   Monthly Payment              Closing                Category       Type  \\\n",
       "0          4583.33  2012-03-08 12:00:00                  Health        NaN   \n",
       "1          2812.50  2013-09-06 12:00:00             Engineering  Permanent   \n",
       "2          1791.67  2013-05-02 00:00:00             Hospitality  Permanent   \n",
       "3          2916.67  2013-09-24 15:00:00                  Health        NaN   \n",
       "4          3125.00  2012-12-21 12:00:00  Information Technology        NaN   \n",
       "\n",
       "               Opening      Organisation  Full-Time Equivalent (FTE)  \n",
       "0  2012-01-08 12:00:00   SEC Recruitment                         1.0  \n",
       "1  2013-08-07 12:00:00  Navartis Limited                         1.0  \n",
       "2  2013-02-01 00:00:00          Pertemps                         1.0  \n",
       "3  2013-07-26 15:00:00       Team 24 Ltd                         1.0  \n",
       "4  2012-11-21 12:00:00         Matchtech                         1.0  "
      ]
     },
     "execution_count": 3,
     "metadata": {},
     "output_type": "execute_result"
    }
   ],
   "source": [
    "df2.head()"
   ]
  },
  {
   "cell_type": "code",
   "execution_count": 4,
   "metadata": {
    "scrolled": true
   },
   "outputs": [
    {
     "name": "stdout",
     "output_type": "stream",
     "text": [
      "<class 'pandas.core.frame.DataFrame'>\n",
      "RangeIndex: 50749 entries, 0 to 50748\n",
      "Data columns (total 11 columns):\n",
      " #   Column        Non-Null Count  Dtype  \n",
      "---  ------        --------------  -----  \n",
      " 0   Id            50749 non-null  int64  \n",
      " 1   Title         50749 non-null  object \n",
      " 2   Location      50749 non-null  object \n",
      " 3   Company       50749 non-null  object \n",
      " 4   ContractType  50749 non-null  object \n",
      " 5   ContractTime  50749 non-null  object \n",
      " 6   Category      50749 non-null  object \n",
      " 7   Salary        50749 non-null  float64\n",
      " 8   OpenDate      50749 non-null  object \n",
      " 9   CloseDate     50749 non-null  object \n",
      " 10  SourceName    50749 non-null  object \n",
      "dtypes: float64(1), int64(1), object(9)\n",
      "memory usage: 4.3+ MB\n",
      "None\n",
      "\n",
      "<class 'pandas.core.frame.DataFrame'>\n",
      "RangeIndex: 5000 entries, 0 to 4999\n",
      "Data columns (total 9 columns):\n",
      " #   Column                      Non-Null Count  Dtype  \n",
      "---  ------                      --------------  -----  \n",
      " 0   Location                    5000 non-null   object \n",
      " 1   Job Title                   5000 non-null   object \n",
      " 2   Monthly Payment             5000 non-null   float64\n",
      " 3   Closing                     5000 non-null   object \n",
      " 4   Category                    5000 non-null   object \n",
      " 5   Type                        3593 non-null   object \n",
      " 6   Opening                     5000 non-null   object \n",
      " 7   Organisation                4531 non-null   object \n",
      " 8   Full-Time Equivalent (FTE)  5000 non-null   float64\n",
      "dtypes: float64(2), object(7)\n",
      "memory usage: 351.7+ KB\n",
      "None\n"
     ]
    }
   ],
   "source": [
    "# Check for null values present in the datasets\n",
    "print(df1.info())\n",
    "print()\n",
    "print(df2.info())"
   ]
  },
  {
   "cell_type": "code",
   "execution_count": 5,
   "metadata": {},
   "outputs": [
    {
     "name": "stdout",
     "output_type": "stream",
     "text": [
      "Id                int64\n",
      "Title            object\n",
      "Location         object\n",
      "Company          object\n",
      "ContractType     object\n",
      "ContractTime     object\n",
      "Category         object\n",
      "Salary          float64\n",
      "OpenDate         object\n",
      "CloseDate        object\n",
      "SourceName       object\n",
      "dtype: object\n",
      "\n",
      "Location                       object\n",
      "Job Title                      object\n",
      "Monthly Payment               float64\n",
      "Closing                        object\n",
      "Category                       object\n",
      "Type                           object\n",
      "Opening                        object\n",
      "Organisation                   object\n",
      "Full-Time Equivalent (FTE)    float64\n",
      "dtype: object\n"
     ]
    }
   ],
   "source": [
    "# Check for Data types of each column in both datasets\n",
    "print(df1.dtypes)\n",
    "print()\n",
    "print(df2.dtypes)"
   ]
  },
  {
   "cell_type": "code",
   "execution_count": 6,
   "metadata": {},
   "outputs": [
    {
     "name": "stdout",
     "output_type": "stream",
     "text": [
      "(50749, 11)\n",
      "(5000, 9)\n"
     ]
    }
   ],
   "source": [
    "# Check number of data and columns in both datasets\n",
    "print(df1.shape)\n",
    "print(df2.shape)"
   ]
  },
  {
   "cell_type": "markdown",
   "metadata": {},
   "source": [
    "### 2. Resolving schema conflicts\n",
    "As mentioned above, the schema and structure of the first dataset is set as the global schema. Thus, any columns or data of the second dataset that is different from the first one would be cleaned and formatted accordingly.\n",
    "Conflicts include:\n",
    "* Different values of Category\n",
    "* Different name and data formats of ContractType (**Full-Time Equivalent (FTE)** in float values)\n",
    "* Different naming and data format of Salary (**Monthly Payment** comes in monthly values instead of yearly)\n",
    "* Different values, naming and data format of ContractTime (**Type** contains null values)\n",
    "* Different naming and data format of Company (**Organisation** contains null values)\n",
    "* Different naming and data format of OpenDate (**Opening** in string)\n",
    "* DIfferent naming and data format of CloseDate (**Closing** in string)\n",
    "* Absence of Id\n",
    "* Absence of SourceName"
   ]
  },
  {
   "cell_type": "markdown",
   "metadata": {},
   "source": [
    "#### Conflict 1: Category\n",
    "Both dataset contains the Category column and fortunately, both column have 8 distinct values. However, the values of the columns convey the same meaning but has different namings.\n",
    "* IT Jobs - Information Technology\n",
    "* Healthcare & Nursing Jobs - Health\n",
    "* Engineering Jobs - Engineering\n",
    "* Finance - Accounting & Finance Jobs\n",
    "* Sales - Sales Jobs\n",
    "* Hospitality & Catering Jobs - Hospitality\n",
    "* Teaching Jobs - Education\n",
    "* Marketing - PR, Advertising & Marketing Jobs\n",
    "\n",
    "The structure of the first dataset will be set as the global schema and all namings of the second dataset would be replaced to values in first dataset accordingly"
   ]
  },
  {
   "cell_type": "code",
   "execution_count": 7,
   "metadata": {
    "scrolled": true
   },
   "outputs": [
    {
     "name": "stdout",
     "output_type": "stream",
     "text": [
      "IT Jobs                             13170\n",
      "Healthcare & Nursing Jobs            8066\n",
      "Engineering Jobs                     7517\n",
      "Accounting & Finance Jobs            6770\n",
      "Sales Jobs                           4869\n",
      "Hospitality & Catering Jobs          4376\n",
      "Teaching Jobs                        3455\n",
      "PR, Advertising & Marketing Jobs     2526\n",
      "Name: Category, dtype: int64\n",
      "\n",
      "Information Technology    1251\n",
      "Health                     804\n",
      "Engineering                732\n",
      "Finance                    675\n",
      "Sales                      517\n",
      "Hospitality                436\n",
      "Education                  341\n",
      "Marketing                  244\n",
      "Name: Category, dtype: int64\n"
     ]
    }
   ],
   "source": [
    "# Get distinct values of Category\n",
    "print(df1['Category'].value_counts())\n",
    "print()\n",
    "print(df2['Category'].value_counts())"
   ]
  },
  {
   "cell_type": "code",
   "execution_count": 8,
   "metadata": {
    "scrolled": true
   },
   "outputs": [
    {
     "name": "stdout",
     "output_type": "stream",
     "text": [
      "IT Jobs                             1251\n",
      "Healthcare & Nursing Jobs            804\n",
      "Engineering Jobs                     732\n",
      "Accounting & Finance Jobs            675\n",
      "Sales Jobs                           517\n",
      "Hospitality & Catering Jobs          436\n",
      "Teaching Jobs                        341\n",
      "PR, Advertising & Marketing Jobs     244\n",
      "Name: Category, dtype: int64\n"
     ]
    }
   ],
   "source": [
    "# Replace the values with the global schema\n",
    "replace_Cat = {'Information Technology': 'IT Jobs','Health':'Healthcare & Nursing Jobs','Engineering':'Engineering Jobs','Finance':'Accounting & Finance Jobs','Sales':'Sales Jobs','Hospitality':'Hospitality & Catering Jobs','Education':'Teaching Jobs','Marketing':'PR, Advertising & Marketing Jobs'}\n",
    "df2['Category'].replace(replace_Cat,inplace=True)\n",
    "print(df2['Category'].value_counts())"
   ]
  },
  {
   "cell_type": "markdown",
   "metadata": {},
   "source": [
    "#### Conflict 2: ContractType & Full-Time Equivalent (FTE)\n",
    "Although both of these columns look very differently:\n",
    "ContractType - (full_time, part_time)\n",
    "Full-Time Equivalent - (0.2- 1.0)\n",
    "\n",
    "They both mean the same thing, with 1.0 as full time and anything lower than that as part time.\n",
    "\n",
    "To resolve this conflict, instead of abruptly replacing the values with full_time for 1.0 and part_time for anything else, a new column with the name 'ContractType' would be made and the new values will be filled there"
   ]
  },
  {
   "cell_type": "code",
   "execution_count": 9,
   "metadata": {
    "scrolled": true
   },
   "outputs": [
    {
     "name": "stdout",
     "output_type": "stream",
     "text": [
      "non-specified    37883\n",
      "full_time        11283\n",
      "part_time         1583\n",
      "Name: ContractType, dtype: int64\n",
      "\n",
      "1.0    4857\n",
      "0.2      39\n",
      "0.8      36\n",
      "0.6      36\n",
      "0.4      32\n",
      "Name: Full-Time Equivalent (FTE), dtype: int64\n"
     ]
    }
   ],
   "source": [
    "# Get distinct values of ContractType\n",
    "print(df1['ContractType'].value_counts())\n",
    "print()\n",
    "print(df2['Full-Time Equivalent (FTE)'].value_counts())"
   ]
  },
  {
   "cell_type": "code",
   "execution_count": 10,
   "metadata": {},
   "outputs": [
    {
     "data": {
      "text/plain": [
       "full_time    4857\n",
       "part_time     143\n",
       "Name: ContractType, dtype: int64"
      ]
     },
     "execution_count": 10,
     "metadata": {},
     "output_type": "execute_result"
    }
   ],
   "source": [
    "# Map the values into the global schema\n",
    "df2['ContractType'] = df2['Full-Time Equivalent (FTE)'].apply(lambda x: 'full_time' if x == 1.0 else 'part_time')\n",
    "df2['ContractType'].value_counts()"
   ]
  },
  {
   "cell_type": "markdown",
   "metadata": {},
   "source": [
    "#### Conflict 4: Salary & Monthly Payment\n",
    "In the first dataset, the Salary column stores each job's yearly salary while in the second dataset, salary comes as montly payment. Thus, salaries in the second dataset will be multiplied by 12 to convert it into yearly salary. Moreover, the global schema for Salary is said to have 2 decimal places, thus, the end product would be rounded into 2 decimal places"
   ]
  },
  {
   "cell_type": "code",
   "execution_count": 11,
   "metadata": {},
   "outputs": [
    {
     "data": {
      "text/html": [
       "<div>\n",
       "<style scoped>\n",
       "    .dataframe tbody tr th:only-of-type {\n",
       "        vertical-align: middle;\n",
       "    }\n",
       "\n",
       "    .dataframe tbody tr th {\n",
       "        vertical-align: top;\n",
       "    }\n",
       "\n",
       "    .dataframe thead th {\n",
       "        text-align: right;\n",
       "    }\n",
       "</style>\n",
       "<table border=\"1\" class=\"dataframe\">\n",
       "  <thead>\n",
       "    <tr style=\"text-align: right;\">\n",
       "      <th></th>\n",
       "      <th>Location</th>\n",
       "      <th>Job Title</th>\n",
       "      <th>Monthly Payment</th>\n",
       "      <th>Closing</th>\n",
       "      <th>Category</th>\n",
       "      <th>Type</th>\n",
       "      <th>Opening</th>\n",
       "      <th>Organisation</th>\n",
       "      <th>Full-Time Equivalent (FTE)</th>\n",
       "      <th>ContractType</th>\n",
       "      <th>Salary</th>\n",
       "    </tr>\n",
       "  </thead>\n",
       "  <tbody>\n",
       "    <tr>\n",
       "      <th>0</th>\n",
       "      <td>Berkshire</td>\n",
       "      <td>Lead CRA UK</td>\n",
       "      <td>4583.33</td>\n",
       "      <td>2012-03-08 12:00:00</td>\n",
       "      <td>Healthcare &amp; Nursing Jobs</td>\n",
       "      <td>NaN</td>\n",
       "      <td>2012-01-08 12:00:00</td>\n",
       "      <td>SEC Recruitment</td>\n",
       "      <td>1.0</td>\n",
       "      <td>full_time</td>\n",
       "      <td>54999.96</td>\n",
       "    </tr>\n",
       "    <tr>\n",
       "      <th>1</th>\n",
       "      <td>Bristol</td>\n",
       "      <td>Possession Manager</td>\n",
       "      <td>2812.50</td>\n",
       "      <td>2013-09-06 12:00:00</td>\n",
       "      <td>Engineering Jobs</td>\n",
       "      <td>Permanent</td>\n",
       "      <td>2013-08-07 12:00:00</td>\n",
       "      <td>Navartis Limited</td>\n",
       "      <td>1.0</td>\n",
       "      <td>full_time</td>\n",
       "      <td>33750.00</td>\n",
       "    </tr>\n",
       "    <tr>\n",
       "      <th>2</th>\n",
       "      <td>Coventry</td>\n",
       "      <td>NVQ Assessor Banking/Financial Services Salary...</td>\n",
       "      <td>1791.67</td>\n",
       "      <td>2013-05-02 00:00:00</td>\n",
       "      <td>Hospitality &amp; Catering Jobs</td>\n",
       "      <td>Permanent</td>\n",
       "      <td>2013-02-01 00:00:00</td>\n",
       "      <td>Pertemps</td>\n",
       "      <td>1.0</td>\n",
       "      <td>full_time</td>\n",
       "      <td>21500.04</td>\n",
       "    </tr>\n",
       "    <tr>\n",
       "      <th>3</th>\n",
       "      <td>Poole</td>\n",
       "      <td>HEAD OF CARE (RGN/RMN)  Poole</td>\n",
       "      <td>2916.67</td>\n",
       "      <td>2013-09-24 15:00:00</td>\n",
       "      <td>Healthcare &amp; Nursing Jobs</td>\n",
       "      <td>NaN</td>\n",
       "      <td>2013-07-26 15:00:00</td>\n",
       "      <td>Team 24 Ltd</td>\n",
       "      <td>1.0</td>\n",
       "      <td>full_time</td>\n",
       "      <td>35000.04</td>\n",
       "    </tr>\n",
       "    <tr>\n",
       "      <th>4</th>\n",
       "      <td>Woking</td>\n",
       "      <td>SQL Server DBA</td>\n",
       "      <td>3125.00</td>\n",
       "      <td>2012-12-21 12:00:00</td>\n",
       "      <td>IT Jobs</td>\n",
       "      <td>NaN</td>\n",
       "      <td>2012-11-21 12:00:00</td>\n",
       "      <td>Matchtech</td>\n",
       "      <td>1.0</td>\n",
       "      <td>full_time</td>\n",
       "      <td>37500.00</td>\n",
       "    </tr>\n",
       "  </tbody>\n",
       "</table>\n",
       "</div>"
      ],
      "text/plain": [
       "    Location                                          Job Title  \\\n",
       "0  Berkshire                                        Lead CRA UK   \n",
       "1    Bristol                                 Possession Manager   \n",
       "2   Coventry  NVQ Assessor Banking/Financial Services Salary...   \n",
       "3      Poole                      HEAD OF CARE (RGN/RMN)  Poole   \n",
       "4     Woking                                     SQL Server DBA   \n",
       "\n",
       "   Monthly Payment              Closing                     Category  \\\n",
       "0          4583.33  2012-03-08 12:00:00    Healthcare & Nursing Jobs   \n",
       "1          2812.50  2013-09-06 12:00:00             Engineering Jobs   \n",
       "2          1791.67  2013-05-02 00:00:00  Hospitality & Catering Jobs   \n",
       "3          2916.67  2013-09-24 15:00:00    Healthcare & Nursing Jobs   \n",
       "4          3125.00  2012-12-21 12:00:00                      IT Jobs   \n",
       "\n",
       "        Type              Opening      Organisation  \\\n",
       "0        NaN  2012-01-08 12:00:00   SEC Recruitment   \n",
       "1  Permanent  2013-08-07 12:00:00  Navartis Limited   \n",
       "2  Permanent  2013-02-01 00:00:00          Pertemps   \n",
       "3        NaN  2013-07-26 15:00:00       Team 24 Ltd   \n",
       "4        NaN  2012-11-21 12:00:00         Matchtech   \n",
       "\n",
       "   Full-Time Equivalent (FTE) ContractType    Salary  \n",
       "0                         1.0    full_time  54999.96  \n",
       "1                         1.0    full_time  33750.00  \n",
       "2                         1.0    full_time  21500.04  \n",
       "3                         1.0    full_time  35000.04  \n",
       "4                         1.0    full_time  37500.00  "
      ]
     },
     "execution_count": 11,
     "metadata": {},
     "output_type": "execute_result"
    }
   ],
   "source": [
    "# Multiply Monthly Payment by 12 and round to 2 decimal places\n",
    "df2['Salary'] = round(df2['Monthly Payment']*12,2)\n",
    "df2.head()"
   ]
  },
  {
   "cell_type": "markdown",
   "metadata": {},
   "source": [
    "#### Conflict 5: ContractTime and Type\n",
    "Looking at the distinct values of the first dataset's ContractTime and second dataset's Type column, they have different naming but columns seems to indicate the same thing. However, from above, it can be seen that the Type column contains null values while ContractTime contains the value 'non-specified'. Thus, all the values in second dataset would be transformed to values of first dataset and null values would be changed to non-specified."
   ]
  },
  {
   "cell_type": "code",
   "execution_count": 12,
   "metadata": {
    "scrolled": false
   },
   "outputs": [
    {
     "name": "stdout",
     "output_type": "stream",
     "text": [
      "permanent        31052\n",
      "non-specified    14001\n",
      "contract          5696\n",
      "Name: ContractTime, dtype: int64\n",
      "\n",
      "Permanent              3034\n",
      "Fixed Term Contract     559\n",
      "Name: Type, dtype: int64\n"
     ]
    }
   ],
   "source": [
    "# Get distinct values of ContractTime\n",
    "print(df1['ContractTime'].value_counts())\n",
    "print()\n",
    "print(df2['Type'].value_counts())"
   ]
  },
  {
   "cell_type": "code",
   "execution_count": 13,
   "metadata": {
    "scrolled": false
   },
   "outputs": [
    {
     "data": {
      "text/html": [
       "<div>\n",
       "<style scoped>\n",
       "    .dataframe tbody tr th:only-of-type {\n",
       "        vertical-align: middle;\n",
       "    }\n",
       "\n",
       "    .dataframe tbody tr th {\n",
       "        vertical-align: top;\n",
       "    }\n",
       "\n",
       "    .dataframe thead th {\n",
       "        text-align: right;\n",
       "    }\n",
       "</style>\n",
       "<table border=\"1\" class=\"dataframe\">\n",
       "  <thead>\n",
       "    <tr style=\"text-align: right;\">\n",
       "      <th></th>\n",
       "      <th>Location</th>\n",
       "      <th>Job Title</th>\n",
       "      <th>Monthly Payment</th>\n",
       "      <th>Closing</th>\n",
       "      <th>Category</th>\n",
       "      <th>Type</th>\n",
       "      <th>Opening</th>\n",
       "      <th>Organisation</th>\n",
       "      <th>Full-Time Equivalent (FTE)</th>\n",
       "      <th>ContractType</th>\n",
       "      <th>Salary</th>\n",
       "    </tr>\n",
       "  </thead>\n",
       "  <tbody>\n",
       "    <tr>\n",
       "      <th>0</th>\n",
       "      <td>Berkshire</td>\n",
       "      <td>Lead CRA UK</td>\n",
       "      <td>4583.33</td>\n",
       "      <td>2012-03-08 12:00:00</td>\n",
       "      <td>Healthcare &amp; Nursing Jobs</td>\n",
       "      <td>non-specified</td>\n",
       "      <td>2012-01-08 12:00:00</td>\n",
       "      <td>SEC Recruitment</td>\n",
       "      <td>1.0</td>\n",
       "      <td>full_time</td>\n",
       "      <td>54999.96</td>\n",
       "    </tr>\n",
       "    <tr>\n",
       "      <th>1</th>\n",
       "      <td>Bristol</td>\n",
       "      <td>Possession Manager</td>\n",
       "      <td>2812.50</td>\n",
       "      <td>2013-09-06 12:00:00</td>\n",
       "      <td>Engineering Jobs</td>\n",
       "      <td>permanent</td>\n",
       "      <td>2013-08-07 12:00:00</td>\n",
       "      <td>Navartis Limited</td>\n",
       "      <td>1.0</td>\n",
       "      <td>full_time</td>\n",
       "      <td>33750.00</td>\n",
       "    </tr>\n",
       "    <tr>\n",
       "      <th>2</th>\n",
       "      <td>Coventry</td>\n",
       "      <td>NVQ Assessor Banking/Financial Services Salary...</td>\n",
       "      <td>1791.67</td>\n",
       "      <td>2013-05-02 00:00:00</td>\n",
       "      <td>Hospitality &amp; Catering Jobs</td>\n",
       "      <td>permanent</td>\n",
       "      <td>2013-02-01 00:00:00</td>\n",
       "      <td>Pertemps</td>\n",
       "      <td>1.0</td>\n",
       "      <td>full_time</td>\n",
       "      <td>21500.04</td>\n",
       "    </tr>\n",
       "    <tr>\n",
       "      <th>3</th>\n",
       "      <td>Poole</td>\n",
       "      <td>HEAD OF CARE (RGN/RMN)  Poole</td>\n",
       "      <td>2916.67</td>\n",
       "      <td>2013-09-24 15:00:00</td>\n",
       "      <td>Healthcare &amp; Nursing Jobs</td>\n",
       "      <td>non-specified</td>\n",
       "      <td>2013-07-26 15:00:00</td>\n",
       "      <td>Team 24 Ltd</td>\n",
       "      <td>1.0</td>\n",
       "      <td>full_time</td>\n",
       "      <td>35000.04</td>\n",
       "    </tr>\n",
       "    <tr>\n",
       "      <th>4</th>\n",
       "      <td>Woking</td>\n",
       "      <td>SQL Server DBA</td>\n",
       "      <td>3125.00</td>\n",
       "      <td>2012-12-21 12:00:00</td>\n",
       "      <td>IT Jobs</td>\n",
       "      <td>non-specified</td>\n",
       "      <td>2012-11-21 12:00:00</td>\n",
       "      <td>Matchtech</td>\n",
       "      <td>1.0</td>\n",
       "      <td>full_time</td>\n",
       "      <td>37500.00</td>\n",
       "    </tr>\n",
       "  </tbody>\n",
       "</table>\n",
       "</div>"
      ],
      "text/plain": [
       "    Location                                          Job Title  \\\n",
       "0  Berkshire                                        Lead CRA UK   \n",
       "1    Bristol                                 Possession Manager   \n",
       "2   Coventry  NVQ Assessor Banking/Financial Services Salary...   \n",
       "3      Poole                      HEAD OF CARE (RGN/RMN)  Poole   \n",
       "4     Woking                                     SQL Server DBA   \n",
       "\n",
       "   Monthly Payment              Closing                     Category  \\\n",
       "0          4583.33  2012-03-08 12:00:00    Healthcare & Nursing Jobs   \n",
       "1          2812.50  2013-09-06 12:00:00             Engineering Jobs   \n",
       "2          1791.67  2013-05-02 00:00:00  Hospitality & Catering Jobs   \n",
       "3          2916.67  2013-09-24 15:00:00    Healthcare & Nursing Jobs   \n",
       "4          3125.00  2012-12-21 12:00:00                      IT Jobs   \n",
       "\n",
       "            Type              Opening      Organisation  \\\n",
       "0  non-specified  2012-01-08 12:00:00   SEC Recruitment   \n",
       "1      permanent  2013-08-07 12:00:00  Navartis Limited   \n",
       "2      permanent  2013-02-01 00:00:00          Pertemps   \n",
       "3  non-specified  2013-07-26 15:00:00       Team 24 Ltd   \n",
       "4  non-specified  2012-11-21 12:00:00         Matchtech   \n",
       "\n",
       "   Full-Time Equivalent (FTE) ContractType    Salary  \n",
       "0                         1.0    full_time  54999.96  \n",
       "1                         1.0    full_time  33750.00  \n",
       "2                         1.0    full_time  21500.04  \n",
       "3                         1.0    full_time  35000.04  \n",
       "4                         1.0    full_time  37500.00  "
      ]
     },
     "execution_count": 13,
     "metadata": {},
     "output_type": "execute_result"
    }
   ],
   "source": [
    "# Map values of Type to the global schema and set null values as non-specified\n",
    "replaceTime = {'Permanent':'permanent','Fixed Term Contract':'contract'}\n",
    "df2['Type'].replace(replaceTime,inplace=True)\n",
    "df2.loc[df2['Type'].isna(),'Type'] = 'non-specified'\n",
    "df2.head()"
   ]
  },
  {
   "cell_type": "markdown",
   "metadata": {},
   "source": [
    "#### Conflict 6: Organisation\n",
    "The values of the organisation will not be altered. However, it can be seen that there are null values (469 data) for the company. In the first dataset, null values are set as 'non-specified'. The same would be done on the second dataset"
   ]
  },
  {
   "cell_type": "code",
   "execution_count": 14,
   "metadata": {},
   "outputs": [
    {
     "data": {
      "text/plain": [
       "Series([], Name: Organisation, dtype: object)"
      ]
     },
     "execution_count": 14,
     "metadata": {},
     "output_type": "execute_result"
    }
   ],
   "source": [
    "# Set Organisation that is null to non-specified\n",
    "df2.loc[df2['Organisation'].isna(),'Organisation'] = 'non-specified'\n",
    "df2.loc[df2['Organisation'].isna(),'Organisation']"
   ]
  },
  {
   "cell_type": "markdown",
   "metadata": {},
   "source": [
    "#### Conflict 7: OpenDate & Opening, CloseDate & Closing\n",
    "The OpenDate and Opening, CloseDate and Closing seems to mean the same thing. However, from above, it can be seen that the data types of Opening and Closing column is of the object datatype. The date strings will all be converted into datetime."
   ]
  },
  {
   "cell_type": "code",
   "execution_count": 15,
   "metadata": {
    "scrolled": true
   },
   "outputs": [
    {
     "data": {
      "text/plain": [
       "Location                              object\n",
       "Job Title                             object\n",
       "Monthly Payment                      float64\n",
       "Closing                       datetime64[ns]\n",
       "Category                              object\n",
       "Type                                  object\n",
       "Opening                       datetime64[ns]\n",
       "Organisation                          object\n",
       "Full-Time Equivalent (FTE)           float64\n",
       "ContractType                          object\n",
       "Salary                               float64\n",
       "dtype: object"
      ]
     },
     "execution_count": 15,
     "metadata": {},
     "output_type": "execute_result"
    }
   ],
   "source": [
    "# Convert Opening and Closing to datetime\n",
    "df2['Opening'] = pd.to_datetime(df2['Opening'])\n",
    "df2['Closing'] = pd.to_datetime(df2['Closing'])\n",
    "df2.dtypes"
   ]
  },
  {
   "cell_type": "markdown",
   "metadata": {},
   "source": [
    "#### Conflict 8: Id Column\n",
    "The Id Column is not present in the second dataset. Thus a unique random 8 digit id is generated using random for each row of data in the second dataset."
   ]
  },
  {
   "cell_type": "code",
   "execution_count": 16,
   "metadata": {},
   "outputs": [],
   "source": [
    "# Random id generator for the rows of data in dataset 2\n",
    "ids = []\n",
    "for i in range(0,len(df2.index)):\n",
    "    new_id = randint(10000000,99999999)\n",
    "    # Keep generating until the Id is unique across the existing Id and previously generated Id\n",
    "    while new_id in ids or new_id in df1['Id'].values:\n",
    "        new_id = randint(10000000,99999999)\n",
    "    ids.append(new_id)"
   ]
  },
  {
   "cell_type": "code",
   "execution_count": 17,
   "metadata": {
    "scrolled": true
   },
   "outputs": [
    {
     "data": {
      "text/html": [
       "<div>\n",
       "<style scoped>\n",
       "    .dataframe tbody tr th:only-of-type {\n",
       "        vertical-align: middle;\n",
       "    }\n",
       "\n",
       "    .dataframe tbody tr th {\n",
       "        vertical-align: top;\n",
       "    }\n",
       "\n",
       "    .dataframe thead th {\n",
       "        text-align: right;\n",
       "    }\n",
       "</style>\n",
       "<table border=\"1\" class=\"dataframe\">\n",
       "  <thead>\n",
       "    <tr style=\"text-align: right;\">\n",
       "      <th></th>\n",
       "      <th>Location</th>\n",
       "      <th>Job Title</th>\n",
       "      <th>Monthly Payment</th>\n",
       "      <th>Closing</th>\n",
       "      <th>Category</th>\n",
       "      <th>Type</th>\n",
       "      <th>Opening</th>\n",
       "      <th>Organisation</th>\n",
       "      <th>Full-Time Equivalent (FTE)</th>\n",
       "      <th>ContractType</th>\n",
       "      <th>Salary</th>\n",
       "      <th>Id</th>\n",
       "    </tr>\n",
       "  </thead>\n",
       "  <tbody>\n",
       "    <tr>\n",
       "      <th>0</th>\n",
       "      <td>Berkshire</td>\n",
       "      <td>Lead CRA UK</td>\n",
       "      <td>4583.33</td>\n",
       "      <td>2012-03-08 12:00:00</td>\n",
       "      <td>Healthcare &amp; Nursing Jobs</td>\n",
       "      <td>non-specified</td>\n",
       "      <td>2012-01-08 12:00:00</td>\n",
       "      <td>SEC Recruitment</td>\n",
       "      <td>1.0</td>\n",
       "      <td>full_time</td>\n",
       "      <td>54999.96</td>\n",
       "      <td>29545082</td>\n",
       "    </tr>\n",
       "    <tr>\n",
       "      <th>1</th>\n",
       "      <td>Bristol</td>\n",
       "      <td>Possession Manager</td>\n",
       "      <td>2812.50</td>\n",
       "      <td>2013-09-06 12:00:00</td>\n",
       "      <td>Engineering Jobs</td>\n",
       "      <td>permanent</td>\n",
       "      <td>2013-08-07 12:00:00</td>\n",
       "      <td>Navartis Limited</td>\n",
       "      <td>1.0</td>\n",
       "      <td>full_time</td>\n",
       "      <td>33750.00</td>\n",
       "      <td>80058918</td>\n",
       "    </tr>\n",
       "    <tr>\n",
       "      <th>2</th>\n",
       "      <td>Coventry</td>\n",
       "      <td>NVQ Assessor Banking/Financial Services Salary...</td>\n",
       "      <td>1791.67</td>\n",
       "      <td>2013-05-02 00:00:00</td>\n",
       "      <td>Hospitality &amp; Catering Jobs</td>\n",
       "      <td>permanent</td>\n",
       "      <td>2013-02-01 00:00:00</td>\n",
       "      <td>Pertemps</td>\n",
       "      <td>1.0</td>\n",
       "      <td>full_time</td>\n",
       "      <td>21500.04</td>\n",
       "      <td>78774483</td>\n",
       "    </tr>\n",
       "    <tr>\n",
       "      <th>3</th>\n",
       "      <td>Poole</td>\n",
       "      <td>HEAD OF CARE (RGN/RMN)  Poole</td>\n",
       "      <td>2916.67</td>\n",
       "      <td>2013-09-24 15:00:00</td>\n",
       "      <td>Healthcare &amp; Nursing Jobs</td>\n",
       "      <td>non-specified</td>\n",
       "      <td>2013-07-26 15:00:00</td>\n",
       "      <td>Team 24 Ltd</td>\n",
       "      <td>1.0</td>\n",
       "      <td>full_time</td>\n",
       "      <td>35000.04</td>\n",
       "      <td>90881933</td>\n",
       "    </tr>\n",
       "    <tr>\n",
       "      <th>4</th>\n",
       "      <td>Woking</td>\n",
       "      <td>SQL Server DBA</td>\n",
       "      <td>3125.00</td>\n",
       "      <td>2012-12-21 12:00:00</td>\n",
       "      <td>IT Jobs</td>\n",
       "      <td>non-specified</td>\n",
       "      <td>2012-11-21 12:00:00</td>\n",
       "      <td>Matchtech</td>\n",
       "      <td>1.0</td>\n",
       "      <td>full_time</td>\n",
       "      <td>37500.00</td>\n",
       "      <td>33150309</td>\n",
       "    </tr>\n",
       "  </tbody>\n",
       "</table>\n",
       "</div>"
      ],
      "text/plain": [
       "    Location                                          Job Title  \\\n",
       "0  Berkshire                                        Lead CRA UK   \n",
       "1    Bristol                                 Possession Manager   \n",
       "2   Coventry  NVQ Assessor Banking/Financial Services Salary...   \n",
       "3      Poole                      HEAD OF CARE (RGN/RMN)  Poole   \n",
       "4     Woking                                     SQL Server DBA   \n",
       "\n",
       "   Monthly Payment             Closing                     Category  \\\n",
       "0          4583.33 2012-03-08 12:00:00    Healthcare & Nursing Jobs   \n",
       "1          2812.50 2013-09-06 12:00:00             Engineering Jobs   \n",
       "2          1791.67 2013-05-02 00:00:00  Hospitality & Catering Jobs   \n",
       "3          2916.67 2013-09-24 15:00:00    Healthcare & Nursing Jobs   \n",
       "4          3125.00 2012-12-21 12:00:00                      IT Jobs   \n",
       "\n",
       "            Type             Opening      Organisation  \\\n",
       "0  non-specified 2012-01-08 12:00:00   SEC Recruitment   \n",
       "1      permanent 2013-08-07 12:00:00  Navartis Limited   \n",
       "2      permanent 2013-02-01 00:00:00          Pertemps   \n",
       "3  non-specified 2013-07-26 15:00:00       Team 24 Ltd   \n",
       "4  non-specified 2012-11-21 12:00:00         Matchtech   \n",
       "\n",
       "   Full-Time Equivalent (FTE) ContractType    Salary        Id  \n",
       "0                         1.0    full_time  54999.96  29545082  \n",
       "1                         1.0    full_time  33750.00  80058918  \n",
       "2                         1.0    full_time  21500.04  78774483  \n",
       "3                         1.0    full_time  35000.04  90881933  \n",
       "4                         1.0    full_time  37500.00  33150309  "
      ]
     },
     "execution_count": 17,
     "metadata": {},
     "output_type": "execute_result"
    }
   ],
   "source": [
    "df2['Id'] = ids\n",
    "df2.head()"
   ]
  },
  {
   "cell_type": "markdown",
   "metadata": {},
   "source": [
    "#### Conflict 9: SourceName Column\n",
    "There is a SourceName column in the first dataset but not the second. However, according to the specifications, all data of the second dataset comes from a single souce www.jobhuntlisting.com. Thus, every row of data in the second dataset will have value for SourceName as that."
   ]
  },
  {
   "cell_type": "code",
   "execution_count": 18,
   "metadata": {},
   "outputs": [
    {
     "data": {
      "text/html": [
       "<div>\n",
       "<style scoped>\n",
       "    .dataframe tbody tr th:only-of-type {\n",
       "        vertical-align: middle;\n",
       "    }\n",
       "\n",
       "    .dataframe tbody tr th {\n",
       "        vertical-align: top;\n",
       "    }\n",
       "\n",
       "    .dataframe thead th {\n",
       "        text-align: right;\n",
       "    }\n",
       "</style>\n",
       "<table border=\"1\" class=\"dataframe\">\n",
       "  <thead>\n",
       "    <tr style=\"text-align: right;\">\n",
       "      <th></th>\n",
       "      <th>Location</th>\n",
       "      <th>Job Title</th>\n",
       "      <th>Monthly Payment</th>\n",
       "      <th>Closing</th>\n",
       "      <th>Category</th>\n",
       "      <th>Type</th>\n",
       "      <th>Opening</th>\n",
       "      <th>Organisation</th>\n",
       "      <th>Full-Time Equivalent (FTE)</th>\n",
       "      <th>ContractType</th>\n",
       "      <th>Salary</th>\n",
       "      <th>Id</th>\n",
       "      <th>SourceName</th>\n",
       "    </tr>\n",
       "  </thead>\n",
       "  <tbody>\n",
       "    <tr>\n",
       "      <th>0</th>\n",
       "      <td>Berkshire</td>\n",
       "      <td>Lead CRA UK</td>\n",
       "      <td>4583.33</td>\n",
       "      <td>2012-03-08 12:00:00</td>\n",
       "      <td>Healthcare &amp; Nursing Jobs</td>\n",
       "      <td>non-specified</td>\n",
       "      <td>2012-01-08 12:00:00</td>\n",
       "      <td>SEC Recruitment</td>\n",
       "      <td>1.0</td>\n",
       "      <td>full_time</td>\n",
       "      <td>54999.96</td>\n",
       "      <td>29545082</td>\n",
       "      <td>www.jobhuntlisting.com</td>\n",
       "    </tr>\n",
       "    <tr>\n",
       "      <th>1</th>\n",
       "      <td>Bristol</td>\n",
       "      <td>Possession Manager</td>\n",
       "      <td>2812.50</td>\n",
       "      <td>2013-09-06 12:00:00</td>\n",
       "      <td>Engineering Jobs</td>\n",
       "      <td>permanent</td>\n",
       "      <td>2013-08-07 12:00:00</td>\n",
       "      <td>Navartis Limited</td>\n",
       "      <td>1.0</td>\n",
       "      <td>full_time</td>\n",
       "      <td>33750.00</td>\n",
       "      <td>80058918</td>\n",
       "      <td>www.jobhuntlisting.com</td>\n",
       "    </tr>\n",
       "    <tr>\n",
       "      <th>2</th>\n",
       "      <td>Coventry</td>\n",
       "      <td>NVQ Assessor Banking/Financial Services Salary...</td>\n",
       "      <td>1791.67</td>\n",
       "      <td>2013-05-02 00:00:00</td>\n",
       "      <td>Hospitality &amp; Catering Jobs</td>\n",
       "      <td>permanent</td>\n",
       "      <td>2013-02-01 00:00:00</td>\n",
       "      <td>Pertemps</td>\n",
       "      <td>1.0</td>\n",
       "      <td>full_time</td>\n",
       "      <td>21500.04</td>\n",
       "      <td>78774483</td>\n",
       "      <td>www.jobhuntlisting.com</td>\n",
       "    </tr>\n",
       "    <tr>\n",
       "      <th>3</th>\n",
       "      <td>Poole</td>\n",
       "      <td>HEAD OF CARE (RGN/RMN)  Poole</td>\n",
       "      <td>2916.67</td>\n",
       "      <td>2013-09-24 15:00:00</td>\n",
       "      <td>Healthcare &amp; Nursing Jobs</td>\n",
       "      <td>non-specified</td>\n",
       "      <td>2013-07-26 15:00:00</td>\n",
       "      <td>Team 24 Ltd</td>\n",
       "      <td>1.0</td>\n",
       "      <td>full_time</td>\n",
       "      <td>35000.04</td>\n",
       "      <td>90881933</td>\n",
       "      <td>www.jobhuntlisting.com</td>\n",
       "    </tr>\n",
       "    <tr>\n",
       "      <th>4</th>\n",
       "      <td>Woking</td>\n",
       "      <td>SQL Server DBA</td>\n",
       "      <td>3125.00</td>\n",
       "      <td>2012-12-21 12:00:00</td>\n",
       "      <td>IT Jobs</td>\n",
       "      <td>non-specified</td>\n",
       "      <td>2012-11-21 12:00:00</td>\n",
       "      <td>Matchtech</td>\n",
       "      <td>1.0</td>\n",
       "      <td>full_time</td>\n",
       "      <td>37500.00</td>\n",
       "      <td>33150309</td>\n",
       "      <td>www.jobhuntlisting.com</td>\n",
       "    </tr>\n",
       "  </tbody>\n",
       "</table>\n",
       "</div>"
      ],
      "text/plain": [
       "    Location                                          Job Title  \\\n",
       "0  Berkshire                                        Lead CRA UK   \n",
       "1    Bristol                                 Possession Manager   \n",
       "2   Coventry  NVQ Assessor Banking/Financial Services Salary...   \n",
       "3      Poole                      HEAD OF CARE (RGN/RMN)  Poole   \n",
       "4     Woking                                     SQL Server DBA   \n",
       "\n",
       "   Monthly Payment             Closing                     Category  \\\n",
       "0          4583.33 2012-03-08 12:00:00    Healthcare & Nursing Jobs   \n",
       "1          2812.50 2013-09-06 12:00:00             Engineering Jobs   \n",
       "2          1791.67 2013-05-02 00:00:00  Hospitality & Catering Jobs   \n",
       "3          2916.67 2013-09-24 15:00:00    Healthcare & Nursing Jobs   \n",
       "4          3125.00 2012-12-21 12:00:00                      IT Jobs   \n",
       "\n",
       "            Type             Opening      Organisation  \\\n",
       "0  non-specified 2012-01-08 12:00:00   SEC Recruitment   \n",
       "1      permanent 2013-08-07 12:00:00  Navartis Limited   \n",
       "2      permanent 2013-02-01 00:00:00          Pertemps   \n",
       "3  non-specified 2013-07-26 15:00:00       Team 24 Ltd   \n",
       "4  non-specified 2012-11-21 12:00:00         Matchtech   \n",
       "\n",
       "   Full-Time Equivalent (FTE) ContractType    Salary        Id  \\\n",
       "0                         1.0    full_time  54999.96  29545082   \n",
       "1                         1.0    full_time  33750.00  80058918   \n",
       "2                         1.0    full_time  21500.04  78774483   \n",
       "3                         1.0    full_time  35000.04  90881933   \n",
       "4                         1.0    full_time  37500.00  33150309   \n",
       "\n",
       "               SourceName  \n",
       "0  www.jobhuntlisting.com  \n",
       "1  www.jobhuntlisting.com  \n",
       "2  www.jobhuntlisting.com  \n",
       "3  www.jobhuntlisting.com  \n",
       "4  www.jobhuntlisting.com  "
      ]
     },
     "execution_count": 18,
     "metadata": {},
     "output_type": "execute_result"
    }
   ],
   "source": [
    "# Set all SourceName to www.jobhuntlisting.com\n",
    "df2['SourceName'] = 'www.jobhuntlisting.com'\n",
    "df2.head()"
   ]
  },
  {
   "cell_type": "markdown",
   "metadata": {},
   "source": [
    "#### Conflict 10: Column Selection, Column Naming and Preparation\n",
    "Now that the the values are all mapped to the global schema, it is time to select those cleaned columns and rename all of them into the correct naming\n",
    "\n",
    "* Job Title as Title\n",
    "* Location\n",
    "* Category\n",
    "* Organisation as Company\n",
    "* ContractType\n",
    "* Type as ContractTime\n",
    "* Salary\n",
    "* Opening as OpenDate\n",
    "* Closing as CloseDate\n",
    "* Id\n",
    "\n",
    "After that, the data formats and null values are double checked to confirm that it is ready to be merged"
   ]
  },
  {
   "cell_type": "code",
   "execution_count": 19,
   "metadata": {},
   "outputs": [
    {
     "data": {
      "text/plain": [
       "Index(['Id', 'Title', 'Location', 'Company', 'ContractType', 'ContractTime',\n",
       "       'Category', 'Salary', 'OpenDate', 'CloseDate', 'SourceName'],\n",
       "      dtype='object')"
      ]
     },
     "execution_count": 19,
     "metadata": {},
     "output_type": "execute_result"
    }
   ],
   "source": [
    "df1.columns"
   ]
  },
  {
   "cell_type": "code",
   "execution_count": 20,
   "metadata": {},
   "outputs": [
    {
     "data": {
      "text/plain": [
       "Id                       int64\n",
       "Title                   object\n",
       "Location                object\n",
       "Company                 object\n",
       "ContractType            object\n",
       "ContractTime            object\n",
       "Category                object\n",
       "Salary                 float64\n",
       "OpenDate        datetime64[ns]\n",
       "CloseDate       datetime64[ns]\n",
       "SourceName              object\n",
       "dtype: object"
      ]
     },
     "execution_count": 20,
     "metadata": {},
     "output_type": "execute_result"
    }
   ],
   "source": [
    "# Keep a copy of the formatted dataset 2\n",
    "ori_df2 = df2.copy()\n",
    "# Drop unneccessary columns\n",
    "df2 = df2.drop(['Monthly Payment','Full-Time Equivalent (FTE)'], axis=1)\n",
    "# Rename the misnamed column to the global schema\n",
    "df2 = df2.rename(columns={'Job Title':'Title','Organisation':'Company','Type':'ContractTime','Opening':'OpenDate','Closing':'CloseDate'})\n",
    "# Sort the columns in order to the first dataset's\n",
    "df2 = df2.reindex(columns=list(df1.columns))\n",
    "df2.dtypes"
   ]
  },
  {
   "cell_type": "code",
   "execution_count": 21,
   "metadata": {},
   "outputs": [
    {
     "name": "stdout",
     "output_type": "stream",
     "text": [
      "Column OpenDate in df1: object to datetime64[ns]\n",
      "Column CloseDate in df1: object to datetime64[ns]\n"
     ]
    }
   ],
   "source": [
    "# Convert datatypes of the first dataset into the second dataset before merging\n",
    "for y in [col for col in df1.columns if col in df2.columns]:\n",
    "    if df1[y].dtype != df2[y].dtype:\n",
    "        print (\"Column \" + y + \" in df1: \"+ str(df1[y].dtype) + \" to \" + str(df2[y].dtype))\n",
    "        df1[y] = df1[y].astype(df2[y].dtype) "
   ]
  },
  {
   "cell_type": "code",
   "execution_count": 22,
   "metadata": {
    "scrolled": true
   },
   "outputs": [
    {
     "name": "stdout",
     "output_type": "stream",
     "text": [
      "Id                       int64\n",
      "Title                   object\n",
      "Location                object\n",
      "Company                 object\n",
      "ContractType            object\n",
      "ContractTime            object\n",
      "Category                object\n",
      "Salary                 float64\n",
      "OpenDate        datetime64[ns]\n",
      "CloseDate       datetime64[ns]\n",
      "SourceName              object\n",
      "dtype: object\n",
      "\n",
      "Id                       int64\n",
      "Title                   object\n",
      "Location                object\n",
      "Company                 object\n",
      "ContractType            object\n",
      "ContractTime            object\n",
      "Category                object\n",
      "Salary                 float64\n",
      "OpenDate        datetime64[ns]\n",
      "CloseDate       datetime64[ns]\n",
      "SourceName              object\n",
      "dtype: object\n"
     ]
    }
   ],
   "source": [
    "# Check if datatypes are identical\n",
    "print(df1.dtypes)\n",
    "print()\n",
    "print(df2.dtypes)"
   ]
  },
  {
   "cell_type": "code",
   "execution_count": 23,
   "metadata": {},
   "outputs": [
    {
     "name": "stdout",
     "output_type": "stream",
     "text": [
      "<class 'pandas.core.frame.DataFrame'>\n",
      "RangeIndex: 50749 entries, 0 to 50748\n",
      "Data columns (total 11 columns):\n",
      " #   Column        Non-Null Count  Dtype         \n",
      "---  ------        --------------  -----         \n",
      " 0   Id            50749 non-null  int64         \n",
      " 1   Title         50749 non-null  object        \n",
      " 2   Location      50749 non-null  object        \n",
      " 3   Company       50749 non-null  object        \n",
      " 4   ContractType  50749 non-null  object        \n",
      " 5   ContractTime  50749 non-null  object        \n",
      " 6   Category      50749 non-null  object        \n",
      " 7   Salary        50749 non-null  float64       \n",
      " 8   OpenDate      50749 non-null  datetime64[ns]\n",
      " 9   CloseDate     50749 non-null  datetime64[ns]\n",
      " 10  SourceName    50749 non-null  object        \n",
      "dtypes: datetime64[ns](2), float64(1), int64(1), object(7)\n",
      "memory usage: 4.3+ MB\n",
      "None\n",
      "\n",
      "<class 'pandas.core.frame.DataFrame'>\n",
      "RangeIndex: 5000 entries, 0 to 4999\n",
      "Data columns (total 11 columns):\n",
      " #   Column        Non-Null Count  Dtype         \n",
      "---  ------        --------------  -----         \n",
      " 0   Id            5000 non-null   int64         \n",
      " 1   Title         5000 non-null   object        \n",
      " 2   Location      5000 non-null   object        \n",
      " 3   Company       5000 non-null   object        \n",
      " 4   ContractType  5000 non-null   object        \n",
      " 5   ContractTime  5000 non-null   object        \n",
      " 6   Category      5000 non-null   object        \n",
      " 7   Salary        5000 non-null   float64       \n",
      " 8   OpenDate      5000 non-null   datetime64[ns]\n",
      " 9   CloseDate     5000 non-null   datetime64[ns]\n",
      " 10  SourceName    5000 non-null   object        \n",
      "dtypes: datetime64[ns](2), float64(1), int64(1), object(7)\n",
      "memory usage: 429.8+ KB\n",
      "None\n"
     ]
    }
   ],
   "source": [
    "# Check if there is no null values\n",
    "print(df1.info())\n",
    "print()\n",
    "print(df2.info())"
   ]
  },
  {
   "cell_type": "markdown",
   "metadata": {},
   "source": [
    "### 3. Merging data\n",
    "The 2 datasets are merged together before checking for any duplicates"
   ]
  },
  {
   "cell_type": "code",
   "execution_count": 24,
   "metadata": {},
   "outputs": [
    {
     "name": "stdout",
     "output_type": "stream",
     "text": [
      "(55749, 11)\n"
     ]
    },
    {
     "data": {
      "text/html": [
       "<div>\n",
       "<style scoped>\n",
       "    .dataframe tbody tr th:only-of-type {\n",
       "        vertical-align: middle;\n",
       "    }\n",
       "\n",
       "    .dataframe tbody tr th {\n",
       "        vertical-align: top;\n",
       "    }\n",
       "\n",
       "    .dataframe thead th {\n",
       "        text-align: right;\n",
       "    }\n",
       "</style>\n",
       "<table border=\"1\" class=\"dataframe\">\n",
       "  <thead>\n",
       "    <tr style=\"text-align: right;\">\n",
       "      <th></th>\n",
       "      <th>Id</th>\n",
       "      <th>Title</th>\n",
       "      <th>Location</th>\n",
       "      <th>Company</th>\n",
       "      <th>ContractType</th>\n",
       "      <th>ContractTime</th>\n",
       "      <th>Category</th>\n",
       "      <th>Salary</th>\n",
       "      <th>OpenDate</th>\n",
       "      <th>CloseDate</th>\n",
       "      <th>SourceName</th>\n",
       "    </tr>\n",
       "  </thead>\n",
       "  <tbody>\n",
       "    <tr>\n",
       "      <th>0</th>\n",
       "      <td>70077187</td>\n",
       "      <td>Pts Electrician</td>\n",
       "      <td>Plymouth</td>\n",
       "      <td>Resourcing Solutions</td>\n",
       "      <td>non-specified</td>\n",
       "      <td>contract</td>\n",
       "      <td>Engineering Jobs</td>\n",
       "      <td>14400.0</td>\n",
       "      <td>2012-10-15 00:00:00</td>\n",
       "      <td>2012-12-14 00:00:00</td>\n",
       "      <td>rengineeringjobs.com</td>\n",
       "    </tr>\n",
       "    <tr>\n",
       "      <th>1</th>\n",
       "      <td>67945005</td>\n",
       "      <td>Technical Support Engineer  French Speaking</td>\n",
       "      <td>Southampton</td>\n",
       "      <td>Orleston Associates Ltd</td>\n",
       "      <td>non-specified</td>\n",
       "      <td>non-specified</td>\n",
       "      <td>Engineering Jobs</td>\n",
       "      <td>24500.0</td>\n",
       "      <td>2012-06-24 00:00:00</td>\n",
       "      <td>2012-07-24 00:00:00</td>\n",
       "      <td>rengineeringjobs.com</td>\n",
       "    </tr>\n",
       "    <tr>\n",
       "      <th>2</th>\n",
       "      <td>71196024</td>\n",
       "      <td>Training Administrator  Rotherham</td>\n",
       "      <td>Rotherham</td>\n",
       "      <td>Randstad</td>\n",
       "      <td>non-specified</td>\n",
       "      <td>permanent</td>\n",
       "      <td>Engineering Jobs</td>\n",
       "      <td>17250.0</td>\n",
       "      <td>2012-05-10 00:00:00</td>\n",
       "      <td>2012-08-08 00:00:00</td>\n",
       "      <td>rengineeringjobs.com</td>\n",
       "    </tr>\n",
       "    <tr>\n",
       "      <th>3</th>\n",
       "      <td>72459197</td>\n",
       "      <td>Engineering Services Manager  West London</td>\n",
       "      <td>West London</td>\n",
       "      <td>Randstad</td>\n",
       "      <td>non-specified</td>\n",
       "      <td>permanent</td>\n",
       "      <td>Engineering Jobs</td>\n",
       "      <td>46500.0</td>\n",
       "      <td>2012-07-05 12:00:00</td>\n",
       "      <td>2012-10-03 12:00:00</td>\n",
       "      <td>rengineeringjobs.com</td>\n",
       "    </tr>\n",
       "    <tr>\n",
       "      <th>4</th>\n",
       "      <td>71684849</td>\n",
       "      <td>Electrical Estimator  Dartford, Kent</td>\n",
       "      <td>Dartford</td>\n",
       "      <td>Randstad</td>\n",
       "      <td>non-specified</td>\n",
       "      <td>permanent</td>\n",
       "      <td>Engineering Jobs</td>\n",
       "      <td>45000.0</td>\n",
       "      <td>2012-03-20 15:00:00</td>\n",
       "      <td>2012-05-19 15:00:00</td>\n",
       "      <td>rengineeringjobs.com</td>\n",
       "    </tr>\n",
       "  </tbody>\n",
       "</table>\n",
       "</div>"
      ],
      "text/plain": [
       "         Id                                        Title     Location  \\\n",
       "0  70077187                              Pts Electrician     Plymouth   \n",
       "1  67945005  Technical Support Engineer  French Speaking  Southampton   \n",
       "2  71196024            Training Administrator  Rotherham    Rotherham   \n",
       "3  72459197    Engineering Services Manager  West London  West London   \n",
       "4  71684849         Electrical Estimator  Dartford, Kent     Dartford   \n",
       "\n",
       "                   Company   ContractType   ContractTime          Category  \\\n",
       "0     Resourcing Solutions  non-specified       contract  Engineering Jobs   \n",
       "1  Orleston Associates Ltd  non-specified  non-specified  Engineering Jobs   \n",
       "2                 Randstad  non-specified      permanent  Engineering Jobs   \n",
       "3                 Randstad  non-specified      permanent  Engineering Jobs   \n",
       "4                 Randstad  non-specified      permanent  Engineering Jobs   \n",
       "\n",
       "    Salary            OpenDate           CloseDate            SourceName  \n",
       "0  14400.0 2012-10-15 00:00:00 2012-12-14 00:00:00  rengineeringjobs.com  \n",
       "1  24500.0 2012-06-24 00:00:00 2012-07-24 00:00:00  rengineeringjobs.com  \n",
       "2  17250.0 2012-05-10 00:00:00 2012-08-08 00:00:00  rengineeringjobs.com  \n",
       "3  46500.0 2012-07-05 12:00:00 2012-10-03 12:00:00  rengineeringjobs.com  \n",
       "4  45000.0 2012-03-20 15:00:00 2012-05-19 15:00:00  rengineeringjobs.com  "
      ]
     },
     "execution_count": 24,
     "metadata": {},
     "output_type": "execute_result"
    }
   ],
   "source": [
    "# Code to merge two data sets\n",
    "merged_df = pd.concat([df1,df2])\n",
    "print(merged_df.shape)\n",
    "merged_df.head()"
   ]
  },
  {
   "cell_type": "code",
   "execution_count": 25,
   "metadata": {},
   "outputs": [
    {
     "data": {
      "text/plain": [
       "Id                       int64\n",
       "Title                   object\n",
       "Location                object\n",
       "Company                 object\n",
       "ContractType            object\n",
       "ContractTime            object\n",
       "Category                object\n",
       "Salary                 float64\n",
       "OpenDate        datetime64[ns]\n",
       "CloseDate       datetime64[ns]\n",
       "SourceName              object\n",
       "dtype: object"
      ]
     },
     "execution_count": 25,
     "metadata": {},
     "output_type": "execute_result"
    }
   ],
   "source": [
    "merged_df.dtypes"
   ]
  },
  {
   "cell_type": "markdown",
   "metadata": {},
   "source": [
    "### 4. Resolving data conflicts:\n",
    "\n",
    "After the dataset is merged, it is first checked if the Id of each data is unique (should be unique). If it is unique, the values will be excluded before checking for duplications. After duplicates are checked, a global key is established and check if the key could uniquely identify each job advertisement."
   ]
  },
  {
   "cell_type": "markdown",
   "metadata": {},
   "source": [
    "#### Conflict 1: Duplications\n",
    "The first conflict to check for is duplicated rows of data after merging. Columns like Id and Salary are excluded as before merging the data, it was made sure that every Id is unique. And from the previous section, some of the salary values were imputated, which would be impossible for the second dataset to have the exact value. After checking, it seems like the new datasource www.jobhuntlisting.com does not exists in the first dataset. Thus, this column would also be excluded when checking for duplicated values. All rows with duplicated values excluding those mentioned columns will be dropped with the last value being kept, which is likely to be from the second dataset."
   ]
  },
  {
   "cell_type": "code",
   "execution_count": 26,
   "metadata": {},
   "outputs": [
    {
     "name": "stdout",
     "output_type": "stream",
     "text": [
      "Is the new SourceName in the first dataset?:  False\n"
     ]
    }
   ],
   "source": [
    "# Check if the SourceName exist in the first dataset\n",
    "print('Is the new SourceName in the first dataset?: ','www.jobhuntlisting.com' in list(df1['SourceName'].unique()))"
   ]
  },
  {
   "cell_type": "code",
   "execution_count": 27,
   "metadata": {},
   "outputs": [
    {
     "name": "stdout",
     "output_type": "stream",
     "text": [
      "Is every Id in the dataset unique?:  True\n"
     ]
    }
   ],
   "source": [
    "# Check if each Id is unique\n",
    "print('Is every Id in the dataset unique?: ',len(merged_df['Id'].unique()) == len(merged_df))"
   ]
  },
  {
   "cell_type": "code",
   "execution_count": 28,
   "metadata": {
    "scrolled": true
   },
   "outputs": [
    {
     "name": "stdout",
     "output_type": "stream",
     "text": [
      "Total duplicated rows of data:  74\n"
     ]
    },
    {
     "data": {
      "text/html": [
       "<div>\n",
       "<style scoped>\n",
       "    .dataframe tbody tr th:only-of-type {\n",
       "        vertical-align: middle;\n",
       "    }\n",
       "\n",
       "    .dataframe tbody tr th {\n",
       "        vertical-align: top;\n",
       "    }\n",
       "\n",
       "    .dataframe thead th {\n",
       "        text-align: right;\n",
       "    }\n",
       "</style>\n",
       "<table border=\"1\" class=\"dataframe\">\n",
       "  <thead>\n",
       "    <tr style=\"text-align: right;\">\n",
       "      <th></th>\n",
       "      <th>Id</th>\n",
       "      <th>Title</th>\n",
       "      <th>Location</th>\n",
       "      <th>Company</th>\n",
       "      <th>ContractType</th>\n",
       "      <th>ContractTime</th>\n",
       "      <th>Category</th>\n",
       "      <th>Salary</th>\n",
       "      <th>OpenDate</th>\n",
       "      <th>CloseDate</th>\n",
       "      <th>SourceName</th>\n",
       "    </tr>\n",
       "  </thead>\n",
       "  <tbody>\n",
       "    <tr>\n",
       "      <th>0</th>\n",
       "      <td>70077187</td>\n",
       "      <td>pts electrician</td>\n",
       "      <td>plymouth</td>\n",
       "      <td>resourcing solutions</td>\n",
       "      <td>non-specified</td>\n",
       "      <td>contract</td>\n",
       "      <td>Engineering Jobs</td>\n",
       "      <td>14400.0</td>\n",
       "      <td>2012-10-15 00:00:00</td>\n",
       "      <td>2012-12-14 00:00:00</td>\n",
       "      <td>rengineeringjobs.com</td>\n",
       "    </tr>\n",
       "    <tr>\n",
       "      <th>1</th>\n",
       "      <td>67945005</td>\n",
       "      <td>technical support engineer  french speaking</td>\n",
       "      <td>southampton</td>\n",
       "      <td>orleston associates ltd</td>\n",
       "      <td>non-specified</td>\n",
       "      <td>non-specified</td>\n",
       "      <td>Engineering Jobs</td>\n",
       "      <td>24500.0</td>\n",
       "      <td>2012-06-24 00:00:00</td>\n",
       "      <td>2012-07-24 00:00:00</td>\n",
       "      <td>rengineeringjobs.com</td>\n",
       "    </tr>\n",
       "    <tr>\n",
       "      <th>2</th>\n",
       "      <td>71196024</td>\n",
       "      <td>training administrator  rotherham</td>\n",
       "      <td>rotherham</td>\n",
       "      <td>randstad</td>\n",
       "      <td>non-specified</td>\n",
       "      <td>permanent</td>\n",
       "      <td>Engineering Jobs</td>\n",
       "      <td>17250.0</td>\n",
       "      <td>2012-05-10 00:00:00</td>\n",
       "      <td>2012-08-08 00:00:00</td>\n",
       "      <td>rengineeringjobs.com</td>\n",
       "    </tr>\n",
       "    <tr>\n",
       "      <th>3</th>\n",
       "      <td>72459197</td>\n",
       "      <td>engineering services manager  west london</td>\n",
       "      <td>west london</td>\n",
       "      <td>randstad</td>\n",
       "      <td>non-specified</td>\n",
       "      <td>permanent</td>\n",
       "      <td>Engineering Jobs</td>\n",
       "      <td>46500.0</td>\n",
       "      <td>2012-07-05 12:00:00</td>\n",
       "      <td>2012-10-03 12:00:00</td>\n",
       "      <td>rengineeringjobs.com</td>\n",
       "    </tr>\n",
       "    <tr>\n",
       "      <th>4</th>\n",
       "      <td>71684849</td>\n",
       "      <td>electrical estimator  dartford, kent</td>\n",
       "      <td>dartford</td>\n",
       "      <td>randstad</td>\n",
       "      <td>non-specified</td>\n",
       "      <td>permanent</td>\n",
       "      <td>Engineering Jobs</td>\n",
       "      <td>45000.0</td>\n",
       "      <td>2012-03-20 15:00:00</td>\n",
       "      <td>2012-05-19 15:00:00</td>\n",
       "      <td>rengineeringjobs.com</td>\n",
       "    </tr>\n",
       "  </tbody>\n",
       "</table>\n",
       "</div>"
      ],
      "text/plain": [
       "         Id                                        Title     Location  \\\n",
       "0  70077187                              pts electrician     plymouth   \n",
       "1  67945005  technical support engineer  french speaking  southampton   \n",
       "2  71196024            training administrator  rotherham    rotherham   \n",
       "3  72459197    engineering services manager  west london  west london   \n",
       "4  71684849         electrical estimator  dartford, kent     dartford   \n",
       "\n",
       "                   Company   ContractType   ContractTime          Category  \\\n",
       "0     resourcing solutions  non-specified       contract  Engineering Jobs   \n",
       "1  orleston associates ltd  non-specified  non-specified  Engineering Jobs   \n",
       "2                 randstad  non-specified      permanent  Engineering Jobs   \n",
       "3                 randstad  non-specified      permanent  Engineering Jobs   \n",
       "4                 randstad  non-specified      permanent  Engineering Jobs   \n",
       "\n",
       "    Salary            OpenDate           CloseDate            SourceName  \n",
       "0  14400.0 2012-10-15 00:00:00 2012-12-14 00:00:00  rengineeringjobs.com  \n",
       "1  24500.0 2012-06-24 00:00:00 2012-07-24 00:00:00  rengineeringjobs.com  \n",
       "2  17250.0 2012-05-10 00:00:00 2012-08-08 00:00:00  rengineeringjobs.com  \n",
       "3  46500.0 2012-07-05 12:00:00 2012-10-03 12:00:00  rengineeringjobs.com  \n",
       "4  45000.0 2012-03-20 15:00:00 2012-05-19 15:00:00  rengineeringjobs.com  "
      ]
     },
     "execution_count": 28,
     "metadata": {},
     "output_type": "execute_result"
    }
   ],
   "source": [
    "# Columns excluding Salary, Id and SourceName to check for duplicates\n",
    "cols = [x for x in merged_df.columns if not x in ['Id','Salary','SourceName']]\n",
    "# Lower each string values that does not have a set value as Category or ContractType or ContractTime\n",
    "merged_df[['Title','Location','Company']] = merged_df[['Title','Location','Company']].apply(lambda x: x.astype(str).str.lower())\n",
    "print(\"Total duplicated rows of data: \", len(merged_df[merged_df[cols].duplicated()]))\n",
    "merged_df = merged_df.drop_duplicates(cols,keep='last')\n",
    "merged_df.head()"
   ]
  },
  {
   "cell_type": "markdown",
   "metadata": {},
   "source": [
    "#### Finding global key for the data\n",
    "The global key for the intergrated data would be the Title, Location, Company, ContractType and ContractTime. This is because:\n",
    "* Title - For each company, different job titles may have similar locations and job types\n",
    "* Location - There may have same roles under the same company but it is possible for the company to have different branches at different locations\n",
    "* Company - Different companies may have the same jobs if they are of a similar field e.g. (IT company)\n",
    "* ContractType & ContractTime - These values are required to fruther differentiate between different types of jobs\n",
    "\n",
    "Columns like Salary, Category, OpenDate, CloseDate, Id and SourceName are considered unneccessary to uniquely identify each job advertisment because:\n",
    "* Salary - Salary values may be inconsistent but similar and different jobs could all have similar salaries\n",
    "* Category - Category can be considered as a summary of the job title and company, it is not specific enough to be able to uniquely identify job advertisments\n",
    "* OpenDate & CloseDate - Open dates and close dates of each job advertisments could always be renewed or set different on other sources\n",
    "* SourceName - The same job advertisement could always be populated to a list of different data sources for a higher chance of getting noticed by job seekers\n",
    "* Id - Although it uniquely identifies each job advertisement, it can be randomly set and conveys no meaning, information or relationship to the job advertisement itself"
   ]
  },
  {
   "cell_type": "code",
   "execution_count": 29,
   "metadata": {},
   "outputs": [
    {
     "data": {
      "text/html": [
       "<div>\n",
       "<style scoped>\n",
       "    .dataframe tbody tr th:only-of-type {\n",
       "        vertical-align: middle;\n",
       "    }\n",
       "\n",
       "    .dataframe tbody tr th {\n",
       "        vertical-align: top;\n",
       "    }\n",
       "\n",
       "    .dataframe thead th {\n",
       "        text-align: right;\n",
       "    }\n",
       "</style>\n",
       "<table border=\"1\" class=\"dataframe\">\n",
       "  <thead>\n",
       "    <tr style=\"text-align: right;\">\n",
       "      <th></th>\n",
       "      <th>Id</th>\n",
       "      <th>Title</th>\n",
       "      <th>Location</th>\n",
       "      <th>Company</th>\n",
       "      <th>ContractType</th>\n",
       "      <th>ContractTime</th>\n",
       "      <th>Category</th>\n",
       "      <th>Salary</th>\n",
       "      <th>OpenDate</th>\n",
       "      <th>CloseDate</th>\n",
       "      <th>SourceName</th>\n",
       "    </tr>\n",
       "  </thead>\n",
       "  <tbody>\n",
       "  </tbody>\n",
       "</table>\n",
       "</div>"
      ],
      "text/plain": [
       "Empty DataFrame\n",
       "Columns: [Id, Title, Location, Company, ContractType, ContractTime, Category, Salary, OpenDate, CloseDate, SourceName]\n",
       "Index: []"
      ]
     },
     "execution_count": 29,
     "metadata": {},
     "output_type": "execute_result"
    }
   ],
   "source": [
    "# When the chosen columns are selected and checked for duplicates, it can be seen that each job advertisement can be uniquely identified within the dataset, shown by the fact that there are no duplicates found\n",
    "merged_df[merged_df[['Title','Location','Company','ContractType','ContractTime']].duplicated()]"
   ]
  },
  {
   "cell_type": "markdown",
   "metadata": {},
   "source": [
    "#### Last formatting\n",
    "Some last formatting is done to ensure the dataset is in a correct state and values are in desired formatting (Capitalize each letter)"
   ]
  },
  {
   "cell_type": "code",
   "execution_count": 30,
   "metadata": {},
   "outputs": [
    {
     "name": "stdout",
     "output_type": "stream",
     "text": [
      "<class 'pandas.core.frame.DataFrame'>\n",
      "Int64Index: 55675 entries, 0 to 4999\n",
      "Data columns (total 11 columns):\n",
      " #   Column        Non-Null Count  Dtype         \n",
      "---  ------        --------------  -----         \n",
      " 0   Id            55675 non-null  int64         \n",
      " 1   Title         55675 non-null  object        \n",
      " 2   Location      55675 non-null  object        \n",
      " 3   Company       55675 non-null  object        \n",
      " 4   ContractType  55675 non-null  object        \n",
      " 5   ContractTime  55675 non-null  object        \n",
      " 6   Category      55675 non-null  object        \n",
      " 7   Salary        55675 non-null  float64       \n",
      " 8   OpenDate      55675 non-null  datetime64[ns]\n",
      " 9   CloseDate     55675 non-null  datetime64[ns]\n",
      " 10  SourceName    55675 non-null  object        \n",
      "dtypes: datetime64[ns](2), float64(1), int64(1), object(7)\n",
      "memory usage: 5.1+ MB\n"
     ]
    }
   ],
   "source": [
    "merged_df.info()"
   ]
  },
  {
   "cell_type": "code",
   "execution_count": 31,
   "metadata": {},
   "outputs": [
    {
     "data": {
      "text/html": [
       "<div>\n",
       "<style scoped>\n",
       "    .dataframe tbody tr th:only-of-type {\n",
       "        vertical-align: middle;\n",
       "    }\n",
       "\n",
       "    .dataframe tbody tr th {\n",
       "        vertical-align: top;\n",
       "    }\n",
       "\n",
       "    .dataframe thead th {\n",
       "        text-align: right;\n",
       "    }\n",
       "</style>\n",
       "<table border=\"1\" class=\"dataframe\">\n",
       "  <thead>\n",
       "    <tr style=\"text-align: right;\">\n",
       "      <th></th>\n",
       "      <th>Id</th>\n",
       "      <th>Title</th>\n",
       "      <th>Location</th>\n",
       "      <th>Company</th>\n",
       "      <th>ContractType</th>\n",
       "      <th>ContractTime</th>\n",
       "      <th>Category</th>\n",
       "      <th>Salary</th>\n",
       "      <th>OpenDate</th>\n",
       "      <th>CloseDate</th>\n",
       "      <th>SourceName</th>\n",
       "    </tr>\n",
       "  </thead>\n",
       "  <tbody>\n",
       "    <tr>\n",
       "      <th>0</th>\n",
       "      <td>70077187</td>\n",
       "      <td>Pts Electrician</td>\n",
       "      <td>Plymouth</td>\n",
       "      <td>Resourcing Solutions</td>\n",
       "      <td>non-specified</td>\n",
       "      <td>contract</td>\n",
       "      <td>Engineering Jobs</td>\n",
       "      <td>14400.0</td>\n",
       "      <td>2012-10-15 00:00:00</td>\n",
       "      <td>2012-12-14 00:00:00</td>\n",
       "      <td>rengineeringjobs.com</td>\n",
       "    </tr>\n",
       "    <tr>\n",
       "      <th>1</th>\n",
       "      <td>67945005</td>\n",
       "      <td>Technical Support Engineer  French Speaking</td>\n",
       "      <td>Southampton</td>\n",
       "      <td>Orleston Associates Ltd</td>\n",
       "      <td>non-specified</td>\n",
       "      <td>non-specified</td>\n",
       "      <td>Engineering Jobs</td>\n",
       "      <td>24500.0</td>\n",
       "      <td>2012-06-24 00:00:00</td>\n",
       "      <td>2012-07-24 00:00:00</td>\n",
       "      <td>rengineeringjobs.com</td>\n",
       "    </tr>\n",
       "    <tr>\n",
       "      <th>2</th>\n",
       "      <td>71196024</td>\n",
       "      <td>Training Administrator  Rotherham</td>\n",
       "      <td>Rotherham</td>\n",
       "      <td>Randstad</td>\n",
       "      <td>non-specified</td>\n",
       "      <td>permanent</td>\n",
       "      <td>Engineering Jobs</td>\n",
       "      <td>17250.0</td>\n",
       "      <td>2012-05-10 00:00:00</td>\n",
       "      <td>2012-08-08 00:00:00</td>\n",
       "      <td>rengineeringjobs.com</td>\n",
       "    </tr>\n",
       "    <tr>\n",
       "      <th>3</th>\n",
       "      <td>72459197</td>\n",
       "      <td>Engineering Services Manager  West London</td>\n",
       "      <td>West London</td>\n",
       "      <td>Randstad</td>\n",
       "      <td>non-specified</td>\n",
       "      <td>permanent</td>\n",
       "      <td>Engineering Jobs</td>\n",
       "      <td>46500.0</td>\n",
       "      <td>2012-07-05 12:00:00</td>\n",
       "      <td>2012-10-03 12:00:00</td>\n",
       "      <td>rengineeringjobs.com</td>\n",
       "    </tr>\n",
       "    <tr>\n",
       "      <th>4</th>\n",
       "      <td>71684849</td>\n",
       "      <td>Electrical Estimator  Dartford, Kent</td>\n",
       "      <td>Dartford</td>\n",
       "      <td>Randstad</td>\n",
       "      <td>non-specified</td>\n",
       "      <td>permanent</td>\n",
       "      <td>Engineering Jobs</td>\n",
       "      <td>45000.0</td>\n",
       "      <td>2012-03-20 15:00:00</td>\n",
       "      <td>2012-05-19 15:00:00</td>\n",
       "      <td>rengineeringjobs.com</td>\n",
       "    </tr>\n",
       "  </tbody>\n",
       "</table>\n",
       "</div>"
      ],
      "text/plain": [
       "         Id                                        Title     Location  \\\n",
       "0  70077187                              Pts Electrician     Plymouth   \n",
       "1  67945005  Technical Support Engineer  French Speaking  Southampton   \n",
       "2  71196024            Training Administrator  Rotherham    Rotherham   \n",
       "3  72459197    Engineering Services Manager  West London  West London   \n",
       "4  71684849         Electrical Estimator  Dartford, Kent     Dartford   \n",
       "\n",
       "                   Company   ContractType   ContractTime          Category  \\\n",
       "0     Resourcing Solutions  non-specified       contract  Engineering Jobs   \n",
       "1  Orleston Associates Ltd  non-specified  non-specified  Engineering Jobs   \n",
       "2                 Randstad  non-specified      permanent  Engineering Jobs   \n",
       "3                 Randstad  non-specified      permanent  Engineering Jobs   \n",
       "4                 Randstad  non-specified      permanent  Engineering Jobs   \n",
       "\n",
       "    Salary            OpenDate           CloseDate            SourceName  \n",
       "0  14400.0 2012-10-15 00:00:00 2012-12-14 00:00:00  rengineeringjobs.com  \n",
       "1  24500.0 2012-06-24 00:00:00 2012-07-24 00:00:00  rengineeringjobs.com  \n",
       "2  17250.0 2012-05-10 00:00:00 2012-08-08 00:00:00  rengineeringjobs.com  \n",
       "3  46500.0 2012-07-05 12:00:00 2012-10-03 12:00:00  rengineeringjobs.com  \n",
       "4  45000.0 2012-03-20 15:00:00 2012-05-19 15:00:00  rengineeringjobs.com  "
      ]
     },
     "execution_count": 31,
     "metadata": {},
     "output_type": "execute_result"
    }
   ],
   "source": [
    "# Round to 2 decimal places for Salary\n",
    "merged_df['Salary'] = merged_df['Salary'].round(decimals=2)\n",
    "# Capitalize each word of string columns\n",
    "merged_df[['Title','Location','Company']] = merged_df[['Title','Location','Company']].apply(lambda x: x.astype(str).str.title() if (x.astype(str).str != 'non-specified') else 'non-specified')\n",
    "merged_df.head()"
   ]
  },
  {
   "cell_type": "markdown",
   "metadata": {},
   "source": [
    "### 5. Saving the integrated and reshaped data\n",
    "The integrated data is saved to a csv file named 's3936897_dataset_integrated.csv'"
   ]
  },
  {
   "cell_type": "code",
   "execution_count": 32,
   "metadata": {},
   "outputs": [],
   "source": [
    "# Save integrated dataset into a csv file excluding the index\n",
    "merged_df.to_csv('s3936897_dataset_integrated.csv',index=False)"
   ]
  },
  {
   "cell_type": "markdown",
   "metadata": {},
   "source": [
    "## Summary of the Assessment Task\n",
    "In this task, it is assumed that the second dataset is cleaned, thus no pre-processing of the dataset is done except for steps to convert the data into the global schema. Possible actions to further improve the dataset could be to find close matches of the Title and Company values."
   ]
  }
 ],
 "metadata": {
  "kernelspec": {
   "display_name": "Python 3 (ipykernel)",
   "language": "python",
   "name": "python3"
  },
  "language_info": {
   "codemirror_mode": {
    "name": "ipython",
    "version": 3
   },
   "file_extension": ".py",
   "mimetype": "text/x-python",
   "name": "python",
   "nbconvert_exporter": "python",
   "pygments_lexer": "ipython3",
   "version": "3.9.12"
  }
 },
 "nbformat": 4,
 "nbformat_minor": 1
}
